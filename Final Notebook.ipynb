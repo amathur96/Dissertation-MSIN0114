{
 "cells": [
  {
   "cell_type": "markdown",
   "metadata": {
    "id": "_tBEm5qNB9tE"
   },
   "source": [
    "# PURPOSE OF THIS JUPYTER NOTEBOOK\n",
    "\n",
    "TO DEVELOP A RANGE OF DATA ANALYTICS SPECIFIC PREDICTIVE MODELS TO HELP AUTOMATE THE SOURCING AND UNCOVERING OF EXCEPTIONAL FINTECH STARTUPS IN VC INVESTING\n"
   ]
  },
  {
   "cell_type": "markdown",
   "metadata": {
    "id": "WpbqgqusCC8J"
   },
   "source": [
    "# BRIEF BACKGROUND TO THE CHOSEN DATASET\n",
    "\n",
    "Data is collected from two sources: Viziologi and Crunchbase. \n",
    " \n",
    "\n",
    "*   From Viziologi, a dataset of 1485 instances and 19 variables is obtained. The dataset spans both active and inactive, private companies who have raised Pre-Seed, Seed, Series A, Series B and Series C rounds of funding, as well as public companies. The dataset contains 19 variables: company name, sector, industry, business model patterns, company description, company url, headquarters, area, country,\n",
    "founding year, company type, tags, social impact, life impact, emotional impact, functional impact, digital maturity, similar business patterns and similar companies.\n",
    "\n",
    "*   The Viziologi dataset is supplemented with additional data from Crunchbase. Crunchbase Pro lookup reveals that 118 companies in the Viziologi dataset do not have a Crunchbase presence.\n",
    "Furthermore, due to invalid URLs and bot protection software, only 74% of the companies identified in the Viziologi dataset can be supplemented with information from Crunchbase.\n",
    "Hence, a dataset of 1008 instances and 11 variables is scraped from Crunchbase: name, operating_status, ipo, company type, latest funding type, latest_funding_date, second latest funding type, second latest funding date, patents, trademarks, hub."
   ]
  },
  {
   "cell_type": "markdown",
   "metadata": {
    "id": "OtcIfqziEzxL"
   },
   "source": [
    "# MERGING THE VIZIOLOGI AND CRUNCHBASE DATASETS\n",
    "\n",
    "The Viziologi and Crunchbase datasets are first cleaned and preprocessed, before merging them into one dataset (df_merged). Companies that are represented in both the Viziologi and Crunchbase datasets are included in the merged dataset. Companies that fail to fulfil the recency requirement – founded before 2007 – are dropped. In total, the merged dataset comprises of 526 recent start-ups.\n",
    "\n",
    "We shall use the merged dataset (df_merged) to perform data cleaning and preparation, feature engineering, exploratory data analysis (EDA), machine learning modelling and evaluation, in a bid to identify the exceptional fintech startups for VC investing. "
   ]
  },
  {
   "cell_type": "markdown",
   "metadata": {
    "id": "c7w-URIzFy_W"
   },
   "source": [
    "# THE CHOSEN MACHINE LEARNING PREDICTIVE MODELS\n",
    "\n",
    "We shall build and evaluate the performance of at least five machine learning classification models, i.e.:\n",
    "\n",
    "1. LOGISTICS REGRESSION CLASSIFER\n",
    "2. SUPPORT VECTOR MACHINE CLASSIFIER\n",
    "3. KTH NEAREST NEIGHBOUR (KNN) CLASSIFIER\n",
    "4. DECISION TREE CLASSIFIER\n",
    "5. RANDOM FOREST CLASSIFIER "
   ]
  },
  {
   "cell_type": "markdown",
   "metadata": {
    "id": "JoWAZyQi83u_"
   },
   "source": [
    "# IMPORTING THE NECESSARY LIBRARIES AND MODULES FOR THIS PROJECT"
   ]
  },
  {
   "cell_type": "code",
   "execution_count": 1,
   "metadata": {
    "id": "6RFAdiW48Z2l"
   },
   "outputs": [],
   "source": [
    "# import the following libraries and modules that are required for completing this project\n",
    "import pandas as pd\n",
    "from pandas.api.types import CategoricalDtype\n",
    "import numpy as np\n",
    "from numpy import interp\n",
    "import matplotlib.pyplot as plt\n",
    "import seaborn as sns\n",
    "import matplotlib as mpl\n",
    "from scipy import stats\n",
    "from sklearn import preprocessing\n",
    "from sklearn.preprocessing import StandardScaler\n",
    "from sklearn.decomposition import PCA\n",
    "from sklearn.metrics import confusion_matrix, roc_curve, auc, classification_report, accuracy_score\n",
    "from sklearn.model_selection import KFold, cross_validate, cross_val_score, cross_val_predict "
   ]
  },
  {
   "cell_type": "markdown",
   "metadata": {
    "id": "IP4WsZQJ9Acc"
   },
   "source": [
    "# LOADING THE MERGED_DATASET (MERGED FROM THE VIZIOLOGI AND CRUNCHBASE DATASETS)"
   ]
  },
  {
   "cell_type": "markdown",
   "metadata": {
    "id": "NlS3xFsO9z3H"
   },
   "source": [
    "**1. LOAD THE MERGED DATASET INTO THE NOTEBOOK**"
   ]
  },
  {
   "cell_type": "code",
   "execution_count": 62,
   "metadata": {
    "colab": {
     "base_uri": "https://localhost:8080/",
     "height": 322
    },
    "id": "-awd8IagyHXL",
    "outputId": "1884a5b7-5787-4147-92bb-e852ffdde211"
   },
   "outputs": [
    {
     "data": {
      "text/html": [
       "\n",
       "  <div id=\"df-5aebe8a8-558f-4e8d-85b1-2e3b47907086\">\n",
       "    <div class=\"colab-df-container\">\n",
       "      <div>\n",
       "<style scoped>\n",
       "    .dataframe tbody tr th:only-of-type {\n",
       "        vertical-align: middle;\n",
       "    }\n",
       "\n",
       "    .dataframe tbody tr th {\n",
       "        vertical-align: top;\n",
       "    }\n",
       "\n",
       "    .dataframe thead th {\n",
       "        text-align: right;\n",
       "    }\n",
       "</style>\n",
       "<table border=\"1\" class=\"dataframe\">\n",
       "  <thead>\n",
       "    <tr style=\"text-align: right;\">\n",
       "      <th></th>\n",
       "      <th>name</th>\n",
       "      <th>sector</th>\n",
       "      <th>category</th>\n",
       "      <th>country</th>\n",
       "      <th>operating_status</th>\n",
       "      <th>ipo</th>\n",
       "      <th>patents</th>\n",
       "      <th>trademarks</th>\n",
       "      <th>hub</th>\n",
       "      <th>latest_funding_type_column</th>\n",
       "      <th>second_latest_funding_type_column</th>\n",
       "      <th>latest_funding_year</th>\n",
       "      <th>second_latest_funding_year</th>\n",
       "      <th>founded</th>\n",
       "      <th>success_labels</th>\n",
       "    </tr>\n",
       "  </thead>\n",
       "  <tbody>\n",
       "    <tr>\n",
       "      <th>0</th>\n",
       "      <td>Argo AI</td>\n",
       "      <td>Transportation</td>\n",
       "      <td>Automotive</td>\n",
       "      <td>US</td>\n",
       "      <td>Active</td>\n",
       "      <td>Private</td>\n",
       "      <td>46</td>\n",
       "      <td>7</td>\n",
       "      <td>Unicorn</td>\n",
       "      <td>Corporate Round</td>\n",
       "      <td>Funding Round</td>\n",
       "      <td>2019</td>\n",
       "      <td>2017</td>\n",
       "      <td>2017.0</td>\n",
       "      <td>1.0</td>\n",
       "    </tr>\n",
       "    <tr>\n",
       "      <th>1</th>\n",
       "      <td>DeepAI</td>\n",
       "      <td>Technology</td>\n",
       "      <td>Software</td>\n",
       "      <td>US</td>\n",
       "      <td>Seed</td>\n",
       "      <td>Private</td>\n",
       "      <td>0</td>\n",
       "      <td>0</td>\n",
       "      <td>Unicorn</td>\n",
       "      <td>Seed Round</td>\n",
       "      <td>Angel Round</td>\n",
       "      <td>2019</td>\n",
       "      <td>2018</td>\n",
       "      <td>2017.0</td>\n",
       "      <td>1.0</td>\n",
       "    </tr>\n",
       "    <tr>\n",
       "      <th>2</th>\n",
       "      <td>Juni Learning</td>\n",
       "      <td>Consumer Services</td>\n",
       "      <td>Education</td>\n",
       "      <td>US</td>\n",
       "      <td>Early Stage Venture</td>\n",
       "      <td>Private</td>\n",
       "      <td>0</td>\n",
       "      <td>0</td>\n",
       "      <td>Unicorn</td>\n",
       "      <td>Series A</td>\n",
       "      <td>Seed Round</td>\n",
       "      <td>2020</td>\n",
       "      <td>2019</td>\n",
       "      <td>2017.0</td>\n",
       "      <td>1.0</td>\n",
       "    </tr>\n",
       "    <tr>\n",
       "      <th>3</th>\n",
       "      <td>Modern Fertility</td>\n",
       "      <td>Healthcare</td>\n",
       "      <td>Health</td>\n",
       "      <td>US</td>\n",
       "      <td>Early Stage Venture</td>\n",
       "      <td>Private</td>\n",
       "      <td>0</td>\n",
       "      <td>0</td>\n",
       "      <td>Unicorn</td>\n",
       "      <td>Series A</td>\n",
       "      <td>Seed Round</td>\n",
       "      <td>2019</td>\n",
       "      <td>2018</td>\n",
       "      <td>2017.0</td>\n",
       "      <td>1.0</td>\n",
       "    </tr>\n",
       "    <tr>\n",
       "      <th>4</th>\n",
       "      <td>Pixsweet</td>\n",
       "      <td>Consumer Goods</td>\n",
       "      <td>Food &amp; Beverages</td>\n",
       "      <td>US</td>\n",
       "      <td>IPO</td>\n",
       "      <td>Private</td>\n",
       "      <td>3</td>\n",
       "      <td>0</td>\n",
       "      <td>Unicorn</td>\n",
       "      <td>Angel Round</td>\n",
       "      <td>Angel Round</td>\n",
       "      <td>2016</td>\n",
       "      <td>2018</td>\n",
       "      <td>2017.0</td>\n",
       "      <td>1.0</td>\n",
       "    </tr>\n",
       "  </tbody>\n",
       "</table>\n",
       "</div>\n",
       "      <button class=\"colab-df-convert\" onclick=\"convertToInteractive('df-5aebe8a8-558f-4e8d-85b1-2e3b47907086')\"\n",
       "              title=\"Convert this dataframe to an interactive table.\"\n",
       "              style=\"display:none;\">\n",
       "        \n",
       "  <svg xmlns=\"http://www.w3.org/2000/svg\" height=\"24px\"viewBox=\"0 0 24 24\"\n",
       "       width=\"24px\">\n",
       "    <path d=\"M0 0h24v24H0V0z\" fill=\"none\"/>\n",
       "    <path d=\"M18.56 5.44l.94 2.06.94-2.06 2.06-.94-2.06-.94-.94-2.06-.94 2.06-2.06.94zm-11 1L8.5 8.5l.94-2.06 2.06-.94-2.06-.94L8.5 2.5l-.94 2.06-2.06.94zm10 10l.94 2.06.94-2.06 2.06-.94-2.06-.94-.94-2.06-.94 2.06-2.06.94z\"/><path d=\"M17.41 7.96l-1.37-1.37c-.4-.4-.92-.59-1.43-.59-.52 0-1.04.2-1.43.59L10.3 9.45l-7.72 7.72c-.78.78-.78 2.05 0 2.83L4 21.41c.39.39.9.59 1.41.59.51 0 1.02-.2 1.41-.59l7.78-7.78 2.81-2.81c.8-.78.8-2.07 0-2.86zM5.41 20L4 18.59l7.72-7.72 1.47 1.35L5.41 20z\"/>\n",
       "  </svg>\n",
       "      </button>\n",
       "      \n",
       "  <style>\n",
       "    .colab-df-container {\n",
       "      display:flex;\n",
       "      flex-wrap:wrap;\n",
       "      gap: 12px;\n",
       "    }\n",
       "\n",
       "    .colab-df-convert {\n",
       "      background-color: #E8F0FE;\n",
       "      border: none;\n",
       "      border-radius: 50%;\n",
       "      cursor: pointer;\n",
       "      display: none;\n",
       "      fill: #1967D2;\n",
       "      height: 32px;\n",
       "      padding: 0 0 0 0;\n",
       "      width: 32px;\n",
       "    }\n",
       "\n",
       "    .colab-df-convert:hover {\n",
       "      background-color: #E2EBFA;\n",
       "      box-shadow: 0px 1px 2px rgba(60, 64, 67, 0.3), 0px 1px 3px 1px rgba(60, 64, 67, 0.15);\n",
       "      fill: #174EA6;\n",
       "    }\n",
       "\n",
       "    [theme=dark] .colab-df-convert {\n",
       "      background-color: #3B4455;\n",
       "      fill: #D2E3FC;\n",
       "    }\n",
       "\n",
       "    [theme=dark] .colab-df-convert:hover {\n",
       "      background-color: #434B5C;\n",
       "      box-shadow: 0px 1px 3px 1px rgba(0, 0, 0, 0.15);\n",
       "      filter: drop-shadow(0px 1px 2px rgba(0, 0, 0, 0.3));\n",
       "      fill: #FFFFFF;\n",
       "    }\n",
       "  </style>\n",
       "\n",
       "      <script>\n",
       "        const buttonEl =\n",
       "          document.querySelector('#df-5aebe8a8-558f-4e8d-85b1-2e3b47907086 button.colab-df-convert');\n",
       "        buttonEl.style.display =\n",
       "          google.colab.kernel.accessAllowed ? 'block' : 'none';\n",
       "\n",
       "        async function convertToInteractive(key) {\n",
       "          const element = document.querySelector('#df-5aebe8a8-558f-4e8d-85b1-2e3b47907086');\n",
       "          const dataTable =\n",
       "            await google.colab.kernel.invokeFunction('convertToInteractive',\n",
       "                                                     [key], {});\n",
       "          if (!dataTable) return;\n",
       "\n",
       "          const docLinkHtml = 'Like what you see? Visit the ' +\n",
       "            '<a target=\"_blank\" href=https://colab.research.google.com/notebooks/data_table.ipynb>data table notebook</a>'\n",
       "            + ' to learn more about interactive tables.';\n",
       "          element.innerHTML = '';\n",
       "          dataTable['output_type'] = 'display_data';\n",
       "          await google.colab.output.renderOutput(dataTable, element);\n",
       "          const docLink = document.createElement('div');\n",
       "          docLink.innerHTML = docLinkHtml;\n",
       "          element.appendChild(docLink);\n",
       "        }\n",
       "      </script>\n",
       "    </div>\n",
       "  </div>\n",
       "  "
      ],
      "text/plain": [
       "               name             sector          category country  \\\n",
       "0           Argo AI     Transportation        Automotive      US   \n",
       "1            DeepAI         Technology          Software      US   \n",
       "2     Juni Learning  Consumer Services         Education      US   \n",
       "3  Modern Fertility         Healthcare            Health      US   \n",
       "4          Pixsweet     Consumer Goods  Food & Beverages      US   \n",
       "\n",
       "      operating_status      ipo patents trademarks      hub  \\\n",
       "0               Active  Private      46          7  Unicorn   \n",
       "1                 Seed  Private       0          0  Unicorn   \n",
       "2  Early Stage Venture  Private       0          0  Unicorn   \n",
       "3  Early Stage Venture  Private       0          0  Unicorn   \n",
       "4                  IPO  Private       3          0  Unicorn   \n",
       "\n",
       "  latest_funding_type_column second_latest_funding_type_column  \\\n",
       "0           Corporate Round                     Funding Round    \n",
       "1                Seed Round                       Angel Round    \n",
       "2                  Series A                        Seed Round    \n",
       "3                  Series A                        Seed Round    \n",
       "4               Angel Round                       Angel Round    \n",
       "\n",
       "   latest_funding_year  second_latest_funding_year  founded  success_labels  \n",
       "0                 2019                        2017   2017.0             1.0  \n",
       "1                 2019                        2018   2017.0             1.0  \n",
       "2                 2020                        2019   2017.0             1.0  \n",
       "3                 2019                        2018   2017.0             1.0  \n",
       "4                 2016                        2018   2017.0             1.0  "
      ]
     },
     "execution_count": 62,
     "metadata": {},
     "output_type": "execute_result"
    }
   ],
   "source": [
    "# load the df_merged dataset and view the first 3 rows\n",
    "df_merged=pd.read_csv('/content/df_merged_2.csv')\n",
    "df_merged.head(5)"
   ]
  },
  {
   "cell_type": "markdown",
   "metadata": {
    "id": "Zec-ytkL9x-Q"
   },
   "source": [
    "2. CALCULATE THE NUMBER OF ROWS AND COLUMNS IN THE MERGED DATASET"
   ]
  },
  {
   "cell_type": "code",
   "execution_count": 63,
   "metadata": {
    "colab": {
     "base_uri": "https://localhost:8080/"
    },
    "id": "iaaLr3WG9xDa",
    "outputId": "46936ac5-34ca-486c-857c-6d4298219706"
   },
   "outputs": [
    {
     "name": "stdout",
     "output_type": "stream",
     "text": [
      "The merged dataset has 553 rows and 15 columns at the time of loading it into this notebook\n"
     ]
    }
   ],
   "source": [
    "# print work out the shape of the merged dataset\n",
    "print('The merged dataset has',df_merged.shape[0],'rows and',df_merged.shape[1],'columns at the time of loading it into this notebook')"
   ]
  },
  {
   "cell_type": "markdown",
   "metadata": {
    "id": "fOg1n7uv9ebn"
   },
   "source": [
    "# DATA CLEANING AND PREPROCESSING OF THE MERGED DATASET"
   ]
  },
  {
   "cell_type": "markdown",
   "metadata": {
    "id": "5SxnL7bb9ml1"
   },
   "source": [
    "**1. CHECK FOR PRESENCE OF MISSING VALUES** \n",
    "\n"
   ]
  },
  {
   "cell_type": "code",
   "execution_count": 64,
   "metadata": {
    "colab": {
     "base_uri": "https://localhost:8080/"
    },
    "id": "brzPhK3T9j_b",
    "outputId": "b18cdd6a-746e-4af7-ac7a-1ed1a8cfdba0"
   },
   "outputs": [
    {
     "data": {
      "text/plain": [
       "name                                  34\n",
       "sector                               167\n",
       "category                             167\n",
       "country                              167\n",
       "operating_status                       0\n",
       "ipo                                    0\n",
       "patents                                0\n",
       "trademarks                             0\n",
       "hub                                    0\n",
       "latest_funding_type_column             0\n",
       "second_latest_funding_type_column      0\n",
       "latest_funding_year                    0\n",
       "second_latest_funding_year             0\n",
       "founded                              167\n",
       "success_labels                         0\n",
       "dtype: int64"
      ]
     },
     "execution_count": 64,
     "metadata": {},
     "output_type": "execute_result"
    }
   ],
   "source": [
    "# checking for presence of missing values \n",
    "df_merged.isnull().sum()"
   ]
  },
  {
   "cell_type": "markdown",
   "metadata": {
    "id": "dAAi7bsKTo_J"
   },
   "source": [
    "**Results:** \n",
    "\n",
    "From the results given below, we can see that the data contains some missing vaues in some of the columns "
   ]
  },
  {
   "cell_type": "markdown",
   "metadata": {
    "id": "0IqyhYswT5Te"
   },
   "source": [
    "**2. REMOVE THE MISSING VALUES BY IMPUTING THEM WITH THEIR MODES** \n",
    "\n",
    "We can remove these missing values, by imputing them with their mode values "
   ]
  },
  {
   "cell_type": "code",
   "execution_count": 65,
   "metadata": {
    "colab": {
     "base_uri": "https://localhost:8080/"
    },
    "id": "gWzo3anAbQZ1",
    "outputId": "ab1e7732-d083-4229-faba-8e25dc07e818"
   },
   "outputs": [
    {
     "name": "stdout",
     "output_type": "stream",
     "text": [
      "sector                               0\n",
      "category                             0\n",
      "country                              0\n",
      "operating_status                     0\n",
      "ipo                                  0\n",
      "patents                              0\n",
      "trademarks                           0\n",
      "hub                                  0\n",
      "latest_funding_type_column           0\n",
      "second_latest_funding_type_column    0\n",
      "latest_funding_year                  0\n",
      "second_latest_funding_year           0\n",
      "founded                              0\n",
      "success_labels                       0\n",
      "dtype: int64\n"
     ]
    }
   ],
   "source": [
    "# first, drop the 'name' column, since it is just a descriptive variable and not predictive\n",
    "merged1 = df_merged\n",
    "#merged1.drop('name', axis = 1, inplace = True)\n",
    "\n",
    "# impute the missing values with the mode values for each individual column\n",
    "for i in merged1.iloc[:, [1,2,3,4,13]]:\n",
    "  merged1[i] = merged1[i].fillna(merged1[i].mode()[0])\n",
    "\n",
    "# check the dataset again to check whether there are still missing values  \n",
    "print(merged1.iloc[:, 1:].isnull().sum())"
   ]
  },
  {
   "cell_type": "markdown",
   "metadata": {
    "id": "a2rzlro3bKqr"
   },
   "source": [
    "**Results:**\n",
    "\n",
    "From the results above, the dataset now no longer contains any missing values"
   ]
  },
  {
   "cell_type": "markdown",
   "metadata": {
    "id": "UrF9_ctXUvvp"
   },
   "source": [
    "# FEATURE ENGINEERING OF VARIOUS COLUMNS IN THE MERGED DATASET"
   ]
  },
  {
   "cell_type": "markdown",
   "metadata": {
    "id": "YXVXcH-Kb3sk"
   },
   "source": [
    "**1. FILTERING COMPANIES ONLY IN THE FINTECH SECTOR AND CATEGORY**\n",
    "\n",
    "Since the aim of this project is to identify the exceptional fintech startups, then this section filters out those companies that are in the fintech sectors and categories."
   ]
  },
  {
   "cell_type": "markdown",
   "metadata": {
    "id": "Qu261uOKLVlk"
   },
   "source": [
    "1A. START BY LOOKING AT THE DIFFERENT TYPES OF SECTORS AND CATEGORIES  AVAILABLE IN THE DATASET  \n",
    "\n"
   ]
  },
  {
   "cell_type": "code",
   "execution_count": 6,
   "metadata": {
    "colab": {
     "base_uri": "https://localhost:8080/"
    },
    "id": "Eg2opNIcbs5o",
    "outputId": "2e047f6c-9e9e-4f14-c9e2-627742cff4b4"
   },
   "outputs": [
    {
     "name": "stdout",
     "output_type": "stream",
     "text": [
      "                     sector\n",
      "Technology              318\n",
      "Consumer Services        88\n",
      "Consumer Goods           34\n",
      "Information & Media      33\n",
      "Financials               24\n",
      "Transportation           23\n",
      "Healthcare               16\n",
      "Energy & Utilities        9\n",
      "Industrials               4\n",
      "Telecommunications        4 \n",
      "\n",
      "There are 10 different types of sectors in the dataset\n"
     ]
    }
   ],
   "source": [
    "# print the different types of sectors in the dataset\n",
    "sectors = merged1['sector'].value_counts().to_frame()\n",
    "print(sectors,'\\n')\n",
    "\n",
    "# print the number of sectors in the dataset \n",
    "print('There are', sectors.shape[0],'different types of sectors in the dataset')"
   ]
  },
  {
   "cell_type": "code",
   "execution_count": 66,
   "metadata": {
    "colab": {
     "base_uri": "https://localhost:8080/"
    },
    "id": "YG503uq_bjKj",
    "outputId": "79e0b023-45f5-49c4-ea17-21a8bce6b02d"
   },
   "outputs": [
    {
     "name": "stdout",
     "output_type": "stream",
     "text": [
      "                       category\n",
      "Financial Services          207\n",
      "Software                     36\n",
      "Platform                     24\n",
      "Retail                       19\n",
      "Professional Services        19\n",
      "Education                    19\n",
      "eCommerce                    18\n",
      "Data and Analytics           17\n",
      "Internet                     16\n",
      "Electronics                  15\n",
      "Entertainment                13\n",
      "Mobility                     11\n",
      "Food & Beverages             11\n",
      "Travel                       11\n",
      "Logistics                    11\n",
      "Energy                       10\n",
      "Agriculture                   9\n",
      "Automotive                    7\n",
      "Communication                 7\n",
      "Lifestyle                     7\n",
      "Biotechnology                 6\n",
      "Freelance                     6\n",
      "Health                        6\n",
      "Insurance                     5\n",
      "Advertising                   5\n",
      "Construction                  5\n",
      "Consulting                    4\n",
      "Manufacturing                 4\n",
      "Telco                         3\n",
      "Marketing                     3\n",
      "Pharmaceuticals               2\n",
      "Press                         2\n",
      "Waste management              2\n",
      "O&G                           2\n",
      "Defense                       2\n",
      "Airlines                      2\n",
      "Beauty                        2\n",
      "Crowdsourcing                 2\n",
      "Conglomerate                  1\n",
      "Chemicals                     1\n",
      "Mining                        1 \n",
      "\n",
      "There are 41 different types of categories in the dataset\n"
     ]
    }
   ],
   "source": [
    "# print the different types of categories in the dataset\n",
    "categories = merged1['category'].value_counts().to_frame()\n",
    "print(categories, '\\n')\n",
    "\n",
    "# print the number of categories in the dataset \n",
    "print('There are', categories.shape[0],'different types of categories in the dataset')"
   ]
  },
  {
   "cell_type": "markdown",
   "metadata": {
    "id": "-gfLeqvjdGvP"
   },
   "source": [
    "**Results:** \n",
    "\n",
    "From the results, there are:\n",
    "\n",
    "*   10 different types of sectors \n",
    "*   41 different types of categories"
   ]
  },
  {
   "cell_type": "markdown",
   "metadata": {
    "id": "dyAyHCSDe8OK"
   },
   "source": [
    "1B. SELECT ONLY COMPANIES THAT IN THE FINTECH INDUSTRY\n",
    "\n",
    "To do this, we shall only select: \n",
    "\n",
    "*   Companies in the Technology sector and and [Financials Services,Internet, eCommerce, Crowdsourcing, Retail] categories \n",
    "*   Companies in the Financials sector and and [Financials Services,Internet, eCommerce, Crowdsourcing, Retail] categories"
   ]
  },
  {
   "cell_type": "code",
   "execution_count": 67,
   "metadata": {
    "colab": {
     "base_uri": "https://localhost:8080/",
     "height": 240
    },
    "id": "heutYiqbYAhL",
    "outputId": "19aa8f1a-5410-418e-e8c5-6a4fc14f412c"
   },
   "outputs": [
    {
     "data": {
      "text/html": [
       "\n",
       "  <div id=\"df-404c52eb-5c3d-439d-9d73-c401c776fd6d\">\n",
       "    <div class=\"colab-df-container\">\n",
       "      <div>\n",
       "<style scoped>\n",
       "    .dataframe tbody tr th:only-of-type {\n",
       "        vertical-align: middle;\n",
       "    }\n",
       "\n",
       "    .dataframe tbody tr th {\n",
       "        vertical-align: top;\n",
       "    }\n",
       "\n",
       "    .dataframe thead th {\n",
       "        text-align: right;\n",
       "    }\n",
       "</style>\n",
       "<table border=\"1\" class=\"dataframe\">\n",
       "  <thead>\n",
       "    <tr style=\"text-align: right;\">\n",
       "      <th></th>\n",
       "      <th>name</th>\n",
       "      <th>sector</th>\n",
       "      <th>category</th>\n",
       "      <th>country</th>\n",
       "      <th>operating_status</th>\n",
       "      <th>ipo</th>\n",
       "      <th>patents</th>\n",
       "      <th>trademarks</th>\n",
       "      <th>hub</th>\n",
       "      <th>latest_funding_type_column</th>\n",
       "      <th>second_latest_funding_type_column</th>\n",
       "      <th>latest_funding_year</th>\n",
       "      <th>second_latest_funding_year</th>\n",
       "      <th>founded</th>\n",
       "      <th>success_labels</th>\n",
       "    </tr>\n",
       "  </thead>\n",
       "  <tbody>\n",
       "    <tr>\n",
       "      <th>5</th>\n",
       "      <td>Aeternity</td>\n",
       "      <td>Technology</td>\n",
       "      <td>Financial Services</td>\n",
       "      <td>Europe</td>\n",
       "      <td>IPO</td>\n",
       "      <td>Private</td>\n",
       "      <td>1</td>\n",
       "      <td>0</td>\n",
       "      <td>Unicorn</td>\n",
       "      <td>Initial Coin Offering</td>\n",
       "      <td>Initial Coin Offering</td>\n",
       "      <td>2017</td>\n",
       "      <td>2017</td>\n",
       "      <td>2016.0</td>\n",
       "      <td>1.0</td>\n",
       "    </tr>\n",
       "    <tr>\n",
       "      <th>9</th>\n",
       "      <td>Civil</td>\n",
       "      <td>Information &amp; Media</td>\n",
       "      <td>Internet</td>\n",
       "      <td>US</td>\n",
       "      <td>Dec-17</td>\n",
       "      <td>Private</td>\n",
       "      <td>2</td>\n",
       "      <td>0</td>\n",
       "      <td>Unicorn</td>\n",
       "      <td>Angel Round</td>\n",
       "      <td>Angel Round</td>\n",
       "      <td>2016</td>\n",
       "      <td>2018</td>\n",
       "      <td>2016.0</td>\n",
       "      <td>1.0</td>\n",
       "    </tr>\n",
       "    <tr>\n",
       "      <th>13</th>\n",
       "      <td>Intello Labs</td>\n",
       "      <td>Technology</td>\n",
       "      <td>Financial Services</td>\n",
       "      <td>US</td>\n",
       "      <td>Early Stage Venture</td>\n",
       "      <td>Private</td>\n",
       "      <td>0</td>\n",
       "      <td>0</td>\n",
       "      <td>Unicorn</td>\n",
       "      <td>Series A</td>\n",
       "      <td>Seed Round</td>\n",
       "      <td>2020</td>\n",
       "      <td>2019</td>\n",
       "      <td>2011.0</td>\n",
       "      <td>1.0</td>\n",
       "    </tr>\n",
       "  </tbody>\n",
       "</table>\n",
       "</div>\n",
       "      <button class=\"colab-df-convert\" onclick=\"convertToInteractive('df-404c52eb-5c3d-439d-9d73-c401c776fd6d')\"\n",
       "              title=\"Convert this dataframe to an interactive table.\"\n",
       "              style=\"display:none;\">\n",
       "        \n",
       "  <svg xmlns=\"http://www.w3.org/2000/svg\" height=\"24px\"viewBox=\"0 0 24 24\"\n",
       "       width=\"24px\">\n",
       "    <path d=\"M0 0h24v24H0V0z\" fill=\"none\"/>\n",
       "    <path d=\"M18.56 5.44l.94 2.06.94-2.06 2.06-.94-2.06-.94-.94-2.06-.94 2.06-2.06.94zm-11 1L8.5 8.5l.94-2.06 2.06-.94-2.06-.94L8.5 2.5l-.94 2.06-2.06.94zm10 10l.94 2.06.94-2.06 2.06-.94-2.06-.94-.94-2.06-.94 2.06-2.06.94z\"/><path d=\"M17.41 7.96l-1.37-1.37c-.4-.4-.92-.59-1.43-.59-.52 0-1.04.2-1.43.59L10.3 9.45l-7.72 7.72c-.78.78-.78 2.05 0 2.83L4 21.41c.39.39.9.59 1.41.59.51 0 1.02-.2 1.41-.59l7.78-7.78 2.81-2.81c.8-.78.8-2.07 0-2.86zM5.41 20L4 18.59l7.72-7.72 1.47 1.35L5.41 20z\"/>\n",
       "  </svg>\n",
       "      </button>\n",
       "      \n",
       "  <style>\n",
       "    .colab-df-container {\n",
       "      display:flex;\n",
       "      flex-wrap:wrap;\n",
       "      gap: 12px;\n",
       "    }\n",
       "\n",
       "    .colab-df-convert {\n",
       "      background-color: #E8F0FE;\n",
       "      border: none;\n",
       "      border-radius: 50%;\n",
       "      cursor: pointer;\n",
       "      display: none;\n",
       "      fill: #1967D2;\n",
       "      height: 32px;\n",
       "      padding: 0 0 0 0;\n",
       "      width: 32px;\n",
       "    }\n",
       "\n",
       "    .colab-df-convert:hover {\n",
       "      background-color: #E2EBFA;\n",
       "      box-shadow: 0px 1px 2px rgba(60, 64, 67, 0.3), 0px 1px 3px 1px rgba(60, 64, 67, 0.15);\n",
       "      fill: #174EA6;\n",
       "    }\n",
       "\n",
       "    [theme=dark] .colab-df-convert {\n",
       "      background-color: #3B4455;\n",
       "      fill: #D2E3FC;\n",
       "    }\n",
       "\n",
       "    [theme=dark] .colab-df-convert:hover {\n",
       "      background-color: #434B5C;\n",
       "      box-shadow: 0px 1px 3px 1px rgba(0, 0, 0, 0.15);\n",
       "      filter: drop-shadow(0px 1px 2px rgba(0, 0, 0, 0.3));\n",
       "      fill: #FFFFFF;\n",
       "    }\n",
       "  </style>\n",
       "\n",
       "      <script>\n",
       "        const buttonEl =\n",
       "          document.querySelector('#df-404c52eb-5c3d-439d-9d73-c401c776fd6d button.colab-df-convert');\n",
       "        buttonEl.style.display =\n",
       "          google.colab.kernel.accessAllowed ? 'block' : 'none';\n",
       "\n",
       "        async function convertToInteractive(key) {\n",
       "          const element = document.querySelector('#df-404c52eb-5c3d-439d-9d73-c401c776fd6d');\n",
       "          const dataTable =\n",
       "            await google.colab.kernel.invokeFunction('convertToInteractive',\n",
       "                                                     [key], {});\n",
       "          if (!dataTable) return;\n",
       "\n",
       "          const docLinkHtml = 'Like what you see? Visit the ' +\n",
       "            '<a target=\"_blank\" href=https://colab.research.google.com/notebooks/data_table.ipynb>data table notebook</a>'\n",
       "            + ' to learn more about interactive tables.';\n",
       "          element.innerHTML = '';\n",
       "          dataTable['output_type'] = 'display_data';\n",
       "          await google.colab.output.renderOutput(dataTable, element);\n",
       "          const docLink = document.createElement('div');\n",
       "          docLink.innerHTML = docLinkHtml;\n",
       "          element.appendChild(docLink);\n",
       "        }\n",
       "      </script>\n",
       "    </div>\n",
       "  </div>\n",
       "  "
      ],
      "text/plain": [
       "            name               sector            category country  \\\n",
       "5      Aeternity           Technology  Financial Services  Europe   \n",
       "9          Civil  Information & Media            Internet      US   \n",
       "13  Intello Labs           Technology  Financial Services      US   \n",
       "\n",
       "       operating_status      ipo patents trademarks      hub  \\\n",
       "5                   IPO  Private       1          0  Unicorn   \n",
       "9                Dec-17  Private       2          0  Unicorn   \n",
       "13  Early Stage Venture  Private       0          0  Unicorn   \n",
       "\n",
       "   latest_funding_type_column second_latest_funding_type_column  \\\n",
       "5      Initial Coin Offering             Initial Coin Offering    \n",
       "9                Angel Round                       Angel Round    \n",
       "13                  Series A                        Seed Round    \n",
       "\n",
       "    latest_funding_year  second_latest_funding_year  founded  success_labels  \n",
       "5                  2017                        2017   2016.0             1.0  \n",
       "9                  2016                        2018   2016.0             1.0  \n",
       "13                 2020                        2019   2011.0             1.0  "
      ]
     },
     "execution_count": 67,
     "metadata": {},
     "output_type": "execute_result"
    }
   ],
   "source": [
    "# filtering the companies in the Technology sector and [Financials Services,Internet, eCommerce, Crowdsourcing, Retail] categories\n",
    "fintech_startups = merged1\n",
    "fintech_startups= fintech_startups[(fintech_startups[\"sector\"]==\"Technology\") & (fintech_startups['category'] == 'Financial Services') | (fintech_startups['category'] == 'Internet') | (fintech_startups['category'] == 'eCommerce') | (fintech_startups['category'] == 'Crowdsourcing') | (fintech_startups['category'] == 'Retail')]\n",
    "\n",
    "# filtering the companies in the Financials sector and and [Financials Services,Internet, eCommerce, Crowdsourcing, Retail] categories\n",
    "fintech_startups=fintech_startups.append(fintech_startups[(fintech_startups[\"sector\"]==\"Financials\") & (fintech_startups['category'] == 'Financial Services') | (fintech_startups['category'] == 'Internet') | (fintech_startups['category'] == 'eCommerce') | (fintech_startups['category'] == 'Crowdsourcing') | (fintech_startups['category'] == 'Retail')])\n",
    "\n",
    "# view the first 3 rows of the fintech_startups new dataset\n",
    "fintech_startups.head(3)\n"
   ]
  },
  {
   "cell_type": "markdown",
   "metadata": {
    "id": "nvB8pQhxgBTI"
   },
   "source": [
    "1C. CALCULATE THE NUMBER OF AVAILABLE STARTUP COMPANIES IN THE FINTECH INDUSTRY\n",
    "\n",
    "Calculate this number in order to know the number of fintech startups we shall be working with"
   ]
  },
  {
   "cell_type": "code",
   "execution_count": 68,
   "metadata": {
    "colab": {
     "base_uri": "https://localhost:8080/"
    },
    "id": "Fuvr35V7DZ6V",
    "outputId": "4ac85e4a-ed64-47d9-b69f-e8452998633f"
   },
   "outputs": [
    {
     "name": "stdout",
     "output_type": "stream",
     "text": [
      "There are 297 available fintech startups in the dataset\n"
     ]
    }
   ],
   "source": [
    "# print the number of available fintech startups in the dataset\n",
    "print('There are', fintech_startups.shape[0],'available fintech startups in the dataset')"
   ]
  },
  {
   "cell_type": "markdown",
   "metadata": {
    "id": "5O2HlIXlmZ2G"
   },
   "source": [
    "**2. DUMMY ENCODING THE 'COUNTRY' VARIABLE**\n",
    "\n",
    "The country variable consists of many different types of countries, where each company is located. \n",
    "\n",
    "In this section, we assign each of these unique countries some dummy variables, in order to determine later (in the classification section) whether the success of any fintech company is dependent on its location"
   ]
  },
  {
   "cell_type": "markdown",
   "metadata": {
    "id": "D_th0wOLpCzY"
   },
   "source": [
    "2A. CHECK HOW MANY DIFFERENT COUNTRIES ARE AVAILABLE IN THE DATASET"
   ]
  },
  {
   "cell_type": "code",
   "execution_count": 69,
   "metadata": {
    "colab": {
     "base_uri": "https://localhost:8080/"
    },
    "id": "Z2_WcL94pPaZ",
    "outputId": "9e9c640c-e1ac-4364-ae56-7ea9a1e00bb9"
   },
   "outputs": [
    {
     "name": "stdout",
     "output_type": "stream",
     "text": [
      "                country\n",
      "US                  262\n",
      "EU                   14\n",
      "UK                    8\n",
      "Southeast Asia        3\n",
      "India                 3\n",
      "Eastern Asia          2\n",
      "Latam                 2\n",
      "Canada                2\n",
      "Europe                1 \n",
      "\n",
      "There are 9 unique countries in the dataset\n"
     ]
    }
   ],
   "source": [
    "# view the different countries available in the dataset\n",
    "country_values = fintech_startups['country'].value_counts().to_frame()\n",
    "print(country_values, '\\n')\n",
    "\n",
    "# print the number of unique countries in the dataset \n",
    "print('There are', country_values.shape[0],'unique countries in the dataset')"
   ]
  },
  {
   "cell_type": "markdown",
   "metadata": {
    "id": "s4GFPKduqM6f"
   },
   "source": [
    "**Insights **\n",
    "\n",
    "From the results above, there are 9 different countries. Most fintech startups in the dataset seem to be located in the US, two are in the EU and UK, and one each in Europe, Southeast Asia, and India"
   ]
  },
  {
   "cell_type": "markdown",
   "metadata": {
    "id": "MtoyVj37qk-L"
   },
   "source": [
    "2B. CREATE DUMMY VARIABLES FOR EACH OF THESE COUNTRIES "
   ]
  },
  {
   "cell_type": "code",
   "execution_count": 70,
   "metadata": {
    "colab": {
     "base_uri": "https://localhost:8080/",
     "height": 217
    },
    "id": "9WJ2NpD-mqxy",
    "outputId": "50bfb2b7-0067-4ba8-9256-88e16fbf9309"
   },
   "outputs": [
    {
     "data": {
      "text/html": [
       "\n",
       "  <div id=\"df-66c5e09e-8aae-4689-9ff5-140c47050f84\">\n",
       "    <div class=\"colab-df-container\">\n",
       "      <div>\n",
       "<style scoped>\n",
       "    .dataframe tbody tr th:only-of-type {\n",
       "        vertical-align: middle;\n",
       "    }\n",
       "\n",
       "    .dataframe tbody tr th {\n",
       "        vertical-align: top;\n",
       "    }\n",
       "\n",
       "    .dataframe thead th {\n",
       "        text-align: right;\n",
       "    }\n",
       "</style>\n",
       "<table border=\"1\" class=\"dataframe\">\n",
       "  <thead>\n",
       "    <tr style=\"text-align: right;\">\n",
       "      <th></th>\n",
       "      <th>name</th>\n",
       "      <th>sector</th>\n",
       "      <th>category</th>\n",
       "      <th>country</th>\n",
       "      <th>operating_status</th>\n",
       "      <th>ipo</th>\n",
       "      <th>patents</th>\n",
       "      <th>trademarks</th>\n",
       "      <th>hub</th>\n",
       "      <th>latest_funding_type_column</th>\n",
       "      <th>...</th>\n",
       "      <th>success_labels</th>\n",
       "      <th>Canada</th>\n",
       "      <th>EU</th>\n",
       "      <th>Eastern Asia</th>\n",
       "      <th>Europe</th>\n",
       "      <th>India</th>\n",
       "      <th>Latam</th>\n",
       "      <th>Southeast Asia</th>\n",
       "      <th>UK</th>\n",
       "      <th>US</th>\n",
       "    </tr>\n",
       "  </thead>\n",
       "  <tbody>\n",
       "    <tr>\n",
       "      <th>5</th>\n",
       "      <td>Aeternity</td>\n",
       "      <td>Technology</td>\n",
       "      <td>Financial Services</td>\n",
       "      <td>Europe</td>\n",
       "      <td>IPO</td>\n",
       "      <td>Private</td>\n",
       "      <td>1</td>\n",
       "      <td>0</td>\n",
       "      <td>Unicorn</td>\n",
       "      <td>Initial Coin Offering</td>\n",
       "      <td>...</td>\n",
       "      <td>1.0</td>\n",
       "      <td>0</td>\n",
       "      <td>0</td>\n",
       "      <td>0</td>\n",
       "      <td>1</td>\n",
       "      <td>0</td>\n",
       "      <td>0</td>\n",
       "      <td>0</td>\n",
       "      <td>0</td>\n",
       "      <td>0</td>\n",
       "    </tr>\n",
       "    <tr>\n",
       "      <th>9</th>\n",
       "      <td>Civil</td>\n",
       "      <td>Information &amp; Media</td>\n",
       "      <td>Internet</td>\n",
       "      <td>US</td>\n",
       "      <td>Dec-17</td>\n",
       "      <td>Private</td>\n",
       "      <td>2</td>\n",
       "      <td>0</td>\n",
       "      <td>Unicorn</td>\n",
       "      <td>Angel Round</td>\n",
       "      <td>...</td>\n",
       "      <td>1.0</td>\n",
       "      <td>0</td>\n",
       "      <td>0</td>\n",
       "      <td>0</td>\n",
       "      <td>0</td>\n",
       "      <td>0</td>\n",
       "      <td>0</td>\n",
       "      <td>0</td>\n",
       "      <td>0</td>\n",
       "      <td>1</td>\n",
       "    </tr>\n",
       "    <tr>\n",
       "      <th>13</th>\n",
       "      <td>Intello Labs</td>\n",
       "      <td>Technology</td>\n",
       "      <td>Financial Services</td>\n",
       "      <td>US</td>\n",
       "      <td>Early Stage Venture</td>\n",
       "      <td>Private</td>\n",
       "      <td>0</td>\n",
       "      <td>0</td>\n",
       "      <td>Unicorn</td>\n",
       "      <td>Series A</td>\n",
       "      <td>...</td>\n",
       "      <td>1.0</td>\n",
       "      <td>0</td>\n",
       "      <td>0</td>\n",
       "      <td>0</td>\n",
       "      <td>0</td>\n",
       "      <td>0</td>\n",
       "      <td>0</td>\n",
       "      <td>0</td>\n",
       "      <td>0</td>\n",
       "      <td>1</td>\n",
       "    </tr>\n",
       "  </tbody>\n",
       "</table>\n",
       "<p>3 rows × 24 columns</p>\n",
       "</div>\n",
       "      <button class=\"colab-df-convert\" onclick=\"convertToInteractive('df-66c5e09e-8aae-4689-9ff5-140c47050f84')\"\n",
       "              title=\"Convert this dataframe to an interactive table.\"\n",
       "              style=\"display:none;\">\n",
       "        \n",
       "  <svg xmlns=\"http://www.w3.org/2000/svg\" height=\"24px\"viewBox=\"0 0 24 24\"\n",
       "       width=\"24px\">\n",
       "    <path d=\"M0 0h24v24H0V0z\" fill=\"none\"/>\n",
       "    <path d=\"M18.56 5.44l.94 2.06.94-2.06 2.06-.94-2.06-.94-.94-2.06-.94 2.06-2.06.94zm-11 1L8.5 8.5l.94-2.06 2.06-.94-2.06-.94L8.5 2.5l-.94 2.06-2.06.94zm10 10l.94 2.06.94-2.06 2.06-.94-2.06-.94-.94-2.06-.94 2.06-2.06.94z\"/><path d=\"M17.41 7.96l-1.37-1.37c-.4-.4-.92-.59-1.43-.59-.52 0-1.04.2-1.43.59L10.3 9.45l-7.72 7.72c-.78.78-.78 2.05 0 2.83L4 21.41c.39.39.9.59 1.41.59.51 0 1.02-.2 1.41-.59l7.78-7.78 2.81-2.81c.8-.78.8-2.07 0-2.86zM5.41 20L4 18.59l7.72-7.72 1.47 1.35L5.41 20z\"/>\n",
       "  </svg>\n",
       "      </button>\n",
       "      \n",
       "  <style>\n",
       "    .colab-df-container {\n",
       "      display:flex;\n",
       "      flex-wrap:wrap;\n",
       "      gap: 12px;\n",
       "    }\n",
       "\n",
       "    .colab-df-convert {\n",
       "      background-color: #E8F0FE;\n",
       "      border: none;\n",
       "      border-radius: 50%;\n",
       "      cursor: pointer;\n",
       "      display: none;\n",
       "      fill: #1967D2;\n",
       "      height: 32px;\n",
       "      padding: 0 0 0 0;\n",
       "      width: 32px;\n",
       "    }\n",
       "\n",
       "    .colab-df-convert:hover {\n",
       "      background-color: #E2EBFA;\n",
       "      box-shadow: 0px 1px 2px rgba(60, 64, 67, 0.3), 0px 1px 3px 1px rgba(60, 64, 67, 0.15);\n",
       "      fill: #174EA6;\n",
       "    }\n",
       "\n",
       "    [theme=dark] .colab-df-convert {\n",
       "      background-color: #3B4455;\n",
       "      fill: #D2E3FC;\n",
       "    }\n",
       "\n",
       "    [theme=dark] .colab-df-convert:hover {\n",
       "      background-color: #434B5C;\n",
       "      box-shadow: 0px 1px 3px 1px rgba(0, 0, 0, 0.15);\n",
       "      filter: drop-shadow(0px 1px 2px rgba(0, 0, 0, 0.3));\n",
       "      fill: #FFFFFF;\n",
       "    }\n",
       "  </style>\n",
       "\n",
       "      <script>\n",
       "        const buttonEl =\n",
       "          document.querySelector('#df-66c5e09e-8aae-4689-9ff5-140c47050f84 button.colab-df-convert');\n",
       "        buttonEl.style.display =\n",
       "          google.colab.kernel.accessAllowed ? 'block' : 'none';\n",
       "\n",
       "        async function convertToInteractive(key) {\n",
       "          const element = document.querySelector('#df-66c5e09e-8aae-4689-9ff5-140c47050f84');\n",
       "          const dataTable =\n",
       "            await google.colab.kernel.invokeFunction('convertToInteractive',\n",
       "                                                     [key], {});\n",
       "          if (!dataTable) return;\n",
       "\n",
       "          const docLinkHtml = 'Like what you see? Visit the ' +\n",
       "            '<a target=\"_blank\" href=https://colab.research.google.com/notebooks/data_table.ipynb>data table notebook</a>'\n",
       "            + ' to learn more about interactive tables.';\n",
       "          element.innerHTML = '';\n",
       "          dataTable['output_type'] = 'display_data';\n",
       "          await google.colab.output.renderOutput(dataTable, element);\n",
       "          const docLink = document.createElement('div');\n",
       "          docLink.innerHTML = docLinkHtml;\n",
       "          element.appendChild(docLink);\n",
       "        }\n",
       "      </script>\n",
       "    </div>\n",
       "  </div>\n",
       "  "
      ],
      "text/plain": [
       "            name               sector            category country  \\\n",
       "5      Aeternity           Technology  Financial Services  Europe   \n",
       "9          Civil  Information & Media            Internet      US   \n",
       "13  Intello Labs           Technology  Financial Services      US   \n",
       "\n",
       "       operating_status      ipo patents trademarks      hub  \\\n",
       "5                   IPO  Private       1          0  Unicorn   \n",
       "9                Dec-17  Private       2          0  Unicorn   \n",
       "13  Early Stage Venture  Private       0          0  Unicorn   \n",
       "\n",
       "   latest_funding_type_column  ... success_labels  Canada  EU  Eastern Asia  \\\n",
       "5      Initial Coin Offering   ...            1.0       0   0             0   \n",
       "9                Angel Round   ...            1.0       0   0             0   \n",
       "13                  Series A   ...            1.0       0   0             0   \n",
       "\n",
       "    Europe  India  Latam  Southeast Asia  UK  US  \n",
       "5        1      0      0               0   0   0  \n",
       "9        0      0      0               0   0   1  \n",
       "13       0      0      0               0   0   1  \n",
       "\n",
       "[3 rows x 24 columns]"
      ]
     },
     "execution_count": 70,
     "metadata": {},
     "output_type": "execute_result"
    }
   ],
   "source": [
    "# creating dummy variables for each country\n",
    "country_dummy_variables = pd.get_dummies(fintech_startups['country'])\n",
    "\n",
    "# concatenate the df_merged dataframe and category_dummy_variables together\n",
    "countries = pd.concat([fintech_startups, country_dummy_variables], axis=1, join='inner')\n",
    "\n",
    "# view the first 3 rows of the new dataframe\n",
    "countries.head(3)"
   ]
  },
  {
   "cell_type": "markdown",
   "metadata": {
    "id": "a-yMmsE_CCNw"
   },
   "source": [
    "**3. DUMMY ENCODE THE 'OPERATING STATUS' VARIABLE**\n",
    "\n",
    "The 'operating status' variable also consists of many different values. \n",
    "\n",
    "In this section, we assign each of these unique values some dummy variables, in order to determine later (in the classification section) whether the type of operating status impacts a company's success"
   ]
  },
  {
   "cell_type": "markdown",
   "metadata": {
    "id": "2JUihnNEqxqj"
   },
   "source": [
    "3A. CHECK HOW MANY DIFFERENT OPERATING STATUS ARE AVAILABLE IN THE DATASET"
   ]
  },
  {
   "cell_type": "code",
   "execution_count": 71,
   "metadata": {
    "colab": {
     "base_uri": "https://localhost:8080/"
    },
    "id": "L8rhPQAZAN_Z",
    "outputId": "57d4d687-0d65-4fe3-b931-600bf33f4db7"
   },
   "outputs": [
    {
     "name": "stdout",
     "output_type": "stream",
     "text": [
      "                                                    operating_status\n",
      "IPO                                                              171\n",
      "M&A                                                               36\n",
      "Late Stage Venture                                                32\n",
      "Early Stage Venture                                               16\n",
      "Active                                                            12\n",
      "Seed                                                              10\n",
      "Private Equity                                                     6\n",
      "2018                                                               3\n",
      "Dec-17                                                             2\n",
      "Mar-19                                                             2\n",
      "1987                                                               1\n",
      "Mercedes-Benz, Daimler AG                                          1\n",
      "Sinochem Group / Sinochem, 中國中化集團有限公司, 中化, Zhon...                 1\n",
      "RemoteOK, Remote | OK                                              1\n",
      "Sep 14, 2019                                                       1\n",
      "2017                                                               1\n",
      "BMW                                                                1 \n",
      "\n",
      "There are 17 different types of operating status in the dataset\n"
     ]
    }
   ],
   "source": [
    "# print the different types of operating status in the dataset\n",
    "operating_status_values = countries['operating_status'].value_counts().to_frame()\n",
    "print(operating_status_values, '\\n')\n",
    "\n",
    "# print the number of categories in the dataset \n",
    "print('There are', operating_status_values.shape[0],'different types of operating status in the dataset')"
   ]
  },
  {
   "cell_type": "markdown",
   "metadata": {
    "id": "jn5pTbR0rehM"
   },
   "source": [
    "From the results above, it is clear that this particular column 'operating_status, contains some unclean text, e.g. \n",
    "\n",
    "\n",
    "*   2017 \n",
    "*   RemoteOK, Remote | OK\n",
    "*   Sep 14, 2019 \n",
    "*   1987\n",
    "*   Sinochem Group / Sinochem, 中國中化集團有限公司, 中化, Zhon...\n",
    "*   2018 \n",
    "*   Mercedes-Benz, Daimler AG\n",
    "*   BMW\n",
    "\n",
    "In order to get rid of these, we shall drop all the rows that contain these values\n",
    "\n"
   ]
  },
  {
   "cell_type": "code",
   "execution_count": 72,
   "metadata": {
    "colab": {
     "base_uri": "https://localhost:8080/"
    },
    "id": "yk0L797rxTso",
    "outputId": "fca3b2a2-3824-4bc4-c9cb-00787a6151ae"
   },
   "outputs": [
    {
     "data": {
      "text/plain": [
       "[9, 77, 79, 234, 308, 370, 470, 480, 495, 506, 515, 9, 308, 370]"
      ]
     },
     "execution_count": 72,
     "metadata": {},
     "output_type": "execute_result"
    }
   ],
   "source": [
    "# first, create a list of the indexes where each of the above values occur in the dataset\n",
    "indices = countries.index[(countries['operating_status']== '2017') | (countries['operating_status']== 'RemoteOK, Remote | OK') | \n",
    "                              (countries['operating_status']== 'Sep 14, 2019') | (countries['operating_status']== '1987') | \n",
    "                              (countries['operating_status']== 'Sinochem Group / Sinochem, 中國中化集團有限公司, 中化, Zhonghua') |\n",
    "                              (countries['operating_status']== '2018') | (countries['operating_status']== 'Mercedes-Benz, Daimler AG') |\n",
    "                              (countries['operating_status']== 'BMW') | (countries['operating_status']== 'Dec-17') | (countries['operating_status']== 'Mar-19')].tolist()\n",
    "indices"
   ]
  },
  {
   "cell_type": "code",
   "execution_count": 73,
   "metadata": {
    "colab": {
     "base_uri": "https://localhost:8080/"
    },
    "id": "GNpnASFFpl1L",
    "outputId": "f6d95589-ed29-40f3-81b4-13cf6a31ead2"
   },
   "outputs": [
    {
     "name": "stdout",
     "output_type": "stream",
     "text": [
      "                     operating_status\n",
      "IPO                               171\n",
      "M&A                                36\n",
      "Late Stage Venture                 32\n",
      "Early Stage Venture                16\n",
      "Active                             12\n",
      "Seed                               10\n",
      "Private Equity                      6\n"
     ]
    }
   ],
   "source": [
    "# then drop the rows where each of these values appear, using the indices from the above list\n",
    "fintech_startups2 = countries\n",
    "fintech_startups2 = fintech_startups2.drop(labels=indices, axis=0)\n",
    "\n",
    "# check again the value counts of the new dataframe and confirm that all the values have been dropped\n",
    "print(fintech_startups2['operating_status'].value_counts().to_frame())"
   ]
  },
  {
   "cell_type": "markdown",
   "metadata": {
    "id": "O32CJnEPC2KD"
   },
   "source": [
    "3B. SEPARATE THE OPERATING STATUS VALUES INTO DIFFERENT COLUMNS"
   ]
  },
  {
   "cell_type": "code",
   "execution_count": 74,
   "metadata": {
    "colab": {
     "base_uri": "https://localhost:8080/",
     "height": 286
    },
    "id": "NQjIahhyowEu",
    "outputId": "20afdab0-8003-4a3b-eb91-6c1d3b9dcf37"
   },
   "outputs": [
    {
     "data": {
      "text/html": [
       "\n",
       "  <div id=\"df-c783c882-a781-4305-aac7-23095d541b0f\">\n",
       "    <div class=\"colab-df-container\">\n",
       "      <div>\n",
       "<style scoped>\n",
       "    .dataframe tbody tr th:only-of-type {\n",
       "        vertical-align: middle;\n",
       "    }\n",
       "\n",
       "    .dataframe tbody tr th {\n",
       "        vertical-align: top;\n",
       "    }\n",
       "\n",
       "    .dataframe thead th {\n",
       "        text-align: right;\n",
       "    }\n",
       "</style>\n",
       "<table border=\"1\" class=\"dataframe\">\n",
       "  <thead>\n",
       "    <tr style=\"text-align: right;\">\n",
       "      <th></th>\n",
       "      <th>name</th>\n",
       "      <th>sector</th>\n",
       "      <th>category</th>\n",
       "      <th>country</th>\n",
       "      <th>operating_status</th>\n",
       "      <th>ipo</th>\n",
       "      <th>patents</th>\n",
       "      <th>trademarks</th>\n",
       "      <th>hub</th>\n",
       "      <th>latest_funding_type_column</th>\n",
       "      <th>...</th>\n",
       "      <th>Southeast Asia</th>\n",
       "      <th>UK</th>\n",
       "      <th>US</th>\n",
       "      <th>Active</th>\n",
       "      <th>Early Stage Venture</th>\n",
       "      <th>IPO</th>\n",
       "      <th>Late Stage Venture</th>\n",
       "      <th>M&amp;A</th>\n",
       "      <th>Private Equity</th>\n",
       "      <th>Seed</th>\n",
       "    </tr>\n",
       "  </thead>\n",
       "  <tbody>\n",
       "    <tr>\n",
       "      <th>5</th>\n",
       "      <td>Aeternity</td>\n",
       "      <td>Technology</td>\n",
       "      <td>Financial Services</td>\n",
       "      <td>Europe</td>\n",
       "      <td>IPO</td>\n",
       "      <td>Private</td>\n",
       "      <td>1</td>\n",
       "      <td>0</td>\n",
       "      <td>Unicorn</td>\n",
       "      <td>Initial Coin Offering</td>\n",
       "      <td>...</td>\n",
       "      <td>0</td>\n",
       "      <td>0</td>\n",
       "      <td>0</td>\n",
       "      <td>0</td>\n",
       "      <td>0</td>\n",
       "      <td>1</td>\n",
       "      <td>0</td>\n",
       "      <td>0</td>\n",
       "      <td>0</td>\n",
       "      <td>0</td>\n",
       "    </tr>\n",
       "    <tr>\n",
       "      <th>13</th>\n",
       "      <td>Intello Labs</td>\n",
       "      <td>Technology</td>\n",
       "      <td>Financial Services</td>\n",
       "      <td>US</td>\n",
       "      <td>Early Stage Venture</td>\n",
       "      <td>Private</td>\n",
       "      <td>0</td>\n",
       "      <td>0</td>\n",
       "      <td>Unicorn</td>\n",
       "      <td>Series A</td>\n",
       "      <td>...</td>\n",
       "      <td>0</td>\n",
       "      <td>0</td>\n",
       "      <td>1</td>\n",
       "      <td>0</td>\n",
       "      <td>1</td>\n",
       "      <td>0</td>\n",
       "      <td>0</td>\n",
       "      <td>0</td>\n",
       "      <td>0</td>\n",
       "      <td>0</td>\n",
       "    </tr>\n",
       "    <tr>\n",
       "      <th>14</th>\n",
       "      <td>lithium cycles</td>\n",
       "      <td>Technology</td>\n",
       "      <td>Financial Services</td>\n",
       "      <td>US</td>\n",
       "      <td>IPO</td>\n",
       "      <td>Private</td>\n",
       "      <td>7</td>\n",
       "      <td>0</td>\n",
       "      <td>Unicorn</td>\n",
       "      <td>Venture Round</td>\n",
       "      <td>...</td>\n",
       "      <td>0</td>\n",
       "      <td>0</td>\n",
       "      <td>1</td>\n",
       "      <td>0</td>\n",
       "      <td>0</td>\n",
       "      <td>1</td>\n",
       "      <td>0</td>\n",
       "      <td>0</td>\n",
       "      <td>0</td>\n",
       "      <td>0</td>\n",
       "    </tr>\n",
       "  </tbody>\n",
       "</table>\n",
       "<p>3 rows × 31 columns</p>\n",
       "</div>\n",
       "      <button class=\"colab-df-convert\" onclick=\"convertToInteractive('df-c783c882-a781-4305-aac7-23095d541b0f')\"\n",
       "              title=\"Convert this dataframe to an interactive table.\"\n",
       "              style=\"display:none;\">\n",
       "        \n",
       "  <svg xmlns=\"http://www.w3.org/2000/svg\" height=\"24px\"viewBox=\"0 0 24 24\"\n",
       "       width=\"24px\">\n",
       "    <path d=\"M0 0h24v24H0V0z\" fill=\"none\"/>\n",
       "    <path d=\"M18.56 5.44l.94 2.06.94-2.06 2.06-.94-2.06-.94-.94-2.06-.94 2.06-2.06.94zm-11 1L8.5 8.5l.94-2.06 2.06-.94-2.06-.94L8.5 2.5l-.94 2.06-2.06.94zm10 10l.94 2.06.94-2.06 2.06-.94-2.06-.94-.94-2.06-.94 2.06-2.06.94z\"/><path d=\"M17.41 7.96l-1.37-1.37c-.4-.4-.92-.59-1.43-.59-.52 0-1.04.2-1.43.59L10.3 9.45l-7.72 7.72c-.78.78-.78 2.05 0 2.83L4 21.41c.39.39.9.59 1.41.59.51 0 1.02-.2 1.41-.59l7.78-7.78 2.81-2.81c.8-.78.8-2.07 0-2.86zM5.41 20L4 18.59l7.72-7.72 1.47 1.35L5.41 20z\"/>\n",
       "  </svg>\n",
       "      </button>\n",
       "      \n",
       "  <style>\n",
       "    .colab-df-container {\n",
       "      display:flex;\n",
       "      flex-wrap:wrap;\n",
       "      gap: 12px;\n",
       "    }\n",
       "\n",
       "    .colab-df-convert {\n",
       "      background-color: #E8F0FE;\n",
       "      border: none;\n",
       "      border-radius: 50%;\n",
       "      cursor: pointer;\n",
       "      display: none;\n",
       "      fill: #1967D2;\n",
       "      height: 32px;\n",
       "      padding: 0 0 0 0;\n",
       "      width: 32px;\n",
       "    }\n",
       "\n",
       "    .colab-df-convert:hover {\n",
       "      background-color: #E2EBFA;\n",
       "      box-shadow: 0px 1px 2px rgba(60, 64, 67, 0.3), 0px 1px 3px 1px rgba(60, 64, 67, 0.15);\n",
       "      fill: #174EA6;\n",
       "    }\n",
       "\n",
       "    [theme=dark] .colab-df-convert {\n",
       "      background-color: #3B4455;\n",
       "      fill: #D2E3FC;\n",
       "    }\n",
       "\n",
       "    [theme=dark] .colab-df-convert:hover {\n",
       "      background-color: #434B5C;\n",
       "      box-shadow: 0px 1px 3px 1px rgba(0, 0, 0, 0.15);\n",
       "      filter: drop-shadow(0px 1px 2px rgba(0, 0, 0, 0.3));\n",
       "      fill: #FFFFFF;\n",
       "    }\n",
       "  </style>\n",
       "\n",
       "      <script>\n",
       "        const buttonEl =\n",
       "          document.querySelector('#df-c783c882-a781-4305-aac7-23095d541b0f button.colab-df-convert');\n",
       "        buttonEl.style.display =\n",
       "          google.colab.kernel.accessAllowed ? 'block' : 'none';\n",
       "\n",
       "        async function convertToInteractive(key) {\n",
       "          const element = document.querySelector('#df-c783c882-a781-4305-aac7-23095d541b0f');\n",
       "          const dataTable =\n",
       "            await google.colab.kernel.invokeFunction('convertToInteractive',\n",
       "                                                     [key], {});\n",
       "          if (!dataTable) return;\n",
       "\n",
       "          const docLinkHtml = 'Like what you see? Visit the ' +\n",
       "            '<a target=\"_blank\" href=https://colab.research.google.com/notebooks/data_table.ipynb>data table notebook</a>'\n",
       "            + ' to learn more about interactive tables.';\n",
       "          element.innerHTML = '';\n",
       "          dataTable['output_type'] = 'display_data';\n",
       "          await google.colab.output.renderOutput(dataTable, element);\n",
       "          const docLink = document.createElement('div');\n",
       "          docLink.innerHTML = docLinkHtml;\n",
       "          element.appendChild(docLink);\n",
       "        }\n",
       "      </script>\n",
       "    </div>\n",
       "  </div>\n",
       "  "
      ],
      "text/plain": [
       "              name      sector            category country  \\\n",
       "5        Aeternity  Technology  Financial Services  Europe   \n",
       "13    Intello Labs  Technology  Financial Services      US   \n",
       "14  lithium cycles  Technology  Financial Services      US   \n",
       "\n",
       "       operating_status      ipo patents trademarks      hub  \\\n",
       "5                   IPO  Private       1          0  Unicorn   \n",
       "13  Early Stage Venture  Private       0          0  Unicorn   \n",
       "14                  IPO  Private       7          0  Unicorn   \n",
       "\n",
       "   latest_funding_type_column  ... Southeast Asia  UK  US  Active  \\\n",
       "5      Initial Coin Offering   ...              0   0   0       0   \n",
       "13                  Series A   ...              0   0   1       0   \n",
       "14             Venture Round   ...              0   0   1       0   \n",
       "\n",
       "    Early Stage Venture  IPO  Late Stage Venture  M&A  Private Equity  Seed  \n",
       "5                     0    1                   0    0               0     0  \n",
       "13                    1    0                   0    0               0     0  \n",
       "14                    0    1                   0    0               0     0  \n",
       "\n",
       "[3 rows x 31 columns]"
      ]
     },
     "execution_count": 74,
     "metadata": {},
     "output_type": "execute_result"
    }
   ],
   "source": [
    "# creating dummy variables for each category value\n",
    "operating_status_dummy_variables = pd.get_dummies(fintech_startups2['operating_status'])\n",
    "\n",
    "# concatenate the df_merged dataframe and category_dummy_variables together\n",
    "operating_status = pd.concat([fintech_startups2, operating_status_dummy_variables], axis=1, join='inner')\n",
    "\n",
    "# view the first 3 rows of the new dataframe\n",
    "operating_status.head(3)"
   ]
  },
  {
   "cell_type": "markdown",
   "metadata": {
    "id": "OidXtyu1DAf0"
   },
   "source": [
    "**4. DUMMY ENCODE THE 'IPO' VARIABLE**\n",
    "\n",
    "The 'IPO' variable, as well, consists of different types of ipo offerings.\n",
    "\n",
    "In this section, we assign each of these unique types some dummy variables, in order to determine later (in the classification section) whether the success of a company is dependent on the type of ipo launched. "
   ]
  },
  {
   "cell_type": "markdown",
   "metadata": {
    "id": "FKVazp6fEgyU"
   },
   "source": [
    "4A. CHECK HOW MANY DIFFERENT TYPES OF IPO ARE AVAILABLE IN THE DATASET"
   ]
  },
  {
   "cell_type": "code",
   "execution_count": 75,
   "metadata": {
    "colab": {
     "base_uri": "https://localhost:8080/"
    },
    "id": "PrxqW3g0EgMi",
    "outputId": "aa2ac903-f4aa-445f-9c39-64860647ea0c"
   },
   "outputs": [
    {
     "name": "stdout",
     "output_type": "stream",
     "text": [
      "          ipo\n",
      "Private   224\n",
      "Public     57\n",
      "Delisted    2 \n",
      "\n",
      "There are 3 different types of ipo in the dataset\n"
     ]
    }
   ],
   "source": [
    "# view the different types of ipo available in the dataset\n",
    "ipo_values = operating_status['ipo'].value_counts().to_frame()\n",
    "print(ipo_values, '\\n')\n",
    "\n",
    "# print the number of unique countries in the dataset \n",
    "print('There are', ipo_values.shape[0],'different types of ipo in the dataset')"
   ]
  },
  {
   "cell_type": "markdown",
   "metadata": {
    "id": "qSaEBIQ5E6B8"
   },
   "source": [
    "4B. SEPARATE EACH OF THESE IPO TYPES INTO DIFFERENT COLUMNS"
   ]
  },
  {
   "cell_type": "code",
   "execution_count": 76,
   "metadata": {
    "colab": {
     "base_uri": "https://localhost:8080/",
     "height": 286
    },
    "id": "ekn0Bzg-FEo0",
    "outputId": "316c1654-3e21-4512-e189-532ebdccf308"
   },
   "outputs": [
    {
     "data": {
      "text/html": [
       "\n",
       "  <div id=\"df-df9054d5-5d44-4c33-a17c-098c39ee30e4\">\n",
       "    <div class=\"colab-df-container\">\n",
       "      <div>\n",
       "<style scoped>\n",
       "    .dataframe tbody tr th:only-of-type {\n",
       "        vertical-align: middle;\n",
       "    }\n",
       "\n",
       "    .dataframe tbody tr th {\n",
       "        vertical-align: top;\n",
       "    }\n",
       "\n",
       "    .dataframe thead th {\n",
       "        text-align: right;\n",
       "    }\n",
       "</style>\n",
       "<table border=\"1\" class=\"dataframe\">\n",
       "  <thead>\n",
       "    <tr style=\"text-align: right;\">\n",
       "      <th></th>\n",
       "      <th>name</th>\n",
       "      <th>sector</th>\n",
       "      <th>category</th>\n",
       "      <th>country</th>\n",
       "      <th>operating_status</th>\n",
       "      <th>ipo</th>\n",
       "      <th>patents</th>\n",
       "      <th>trademarks</th>\n",
       "      <th>hub</th>\n",
       "      <th>latest_funding_type_column</th>\n",
       "      <th>...</th>\n",
       "      <th>Active</th>\n",
       "      <th>Early Stage Venture</th>\n",
       "      <th>IPO</th>\n",
       "      <th>Late Stage Venture</th>\n",
       "      <th>M&amp;A</th>\n",
       "      <th>Private Equity</th>\n",
       "      <th>Seed</th>\n",
       "      <th>Delisted</th>\n",
       "      <th>Private</th>\n",
       "      <th>Public</th>\n",
       "    </tr>\n",
       "  </thead>\n",
       "  <tbody>\n",
       "    <tr>\n",
       "      <th>5</th>\n",
       "      <td>Aeternity</td>\n",
       "      <td>Technology</td>\n",
       "      <td>Financial Services</td>\n",
       "      <td>Europe</td>\n",
       "      <td>IPO</td>\n",
       "      <td>Private</td>\n",
       "      <td>1</td>\n",
       "      <td>0</td>\n",
       "      <td>Unicorn</td>\n",
       "      <td>Initial Coin Offering</td>\n",
       "      <td>...</td>\n",
       "      <td>0</td>\n",
       "      <td>0</td>\n",
       "      <td>1</td>\n",
       "      <td>0</td>\n",
       "      <td>0</td>\n",
       "      <td>0</td>\n",
       "      <td>0</td>\n",
       "      <td>0</td>\n",
       "      <td>1</td>\n",
       "      <td>0</td>\n",
       "    </tr>\n",
       "    <tr>\n",
       "      <th>13</th>\n",
       "      <td>Intello Labs</td>\n",
       "      <td>Technology</td>\n",
       "      <td>Financial Services</td>\n",
       "      <td>US</td>\n",
       "      <td>Early Stage Venture</td>\n",
       "      <td>Private</td>\n",
       "      <td>0</td>\n",
       "      <td>0</td>\n",
       "      <td>Unicorn</td>\n",
       "      <td>Series A</td>\n",
       "      <td>...</td>\n",
       "      <td>0</td>\n",
       "      <td>1</td>\n",
       "      <td>0</td>\n",
       "      <td>0</td>\n",
       "      <td>0</td>\n",
       "      <td>0</td>\n",
       "      <td>0</td>\n",
       "      <td>0</td>\n",
       "      <td>1</td>\n",
       "      <td>0</td>\n",
       "    </tr>\n",
       "    <tr>\n",
       "      <th>14</th>\n",
       "      <td>lithium cycles</td>\n",
       "      <td>Technology</td>\n",
       "      <td>Financial Services</td>\n",
       "      <td>US</td>\n",
       "      <td>IPO</td>\n",
       "      <td>Private</td>\n",
       "      <td>7</td>\n",
       "      <td>0</td>\n",
       "      <td>Unicorn</td>\n",
       "      <td>Venture Round</td>\n",
       "      <td>...</td>\n",
       "      <td>0</td>\n",
       "      <td>0</td>\n",
       "      <td>1</td>\n",
       "      <td>0</td>\n",
       "      <td>0</td>\n",
       "      <td>0</td>\n",
       "      <td>0</td>\n",
       "      <td>0</td>\n",
       "      <td>1</td>\n",
       "      <td>0</td>\n",
       "    </tr>\n",
       "  </tbody>\n",
       "</table>\n",
       "<p>3 rows × 34 columns</p>\n",
       "</div>\n",
       "      <button class=\"colab-df-convert\" onclick=\"convertToInteractive('df-df9054d5-5d44-4c33-a17c-098c39ee30e4')\"\n",
       "              title=\"Convert this dataframe to an interactive table.\"\n",
       "              style=\"display:none;\">\n",
       "        \n",
       "  <svg xmlns=\"http://www.w3.org/2000/svg\" height=\"24px\"viewBox=\"0 0 24 24\"\n",
       "       width=\"24px\">\n",
       "    <path d=\"M0 0h24v24H0V0z\" fill=\"none\"/>\n",
       "    <path d=\"M18.56 5.44l.94 2.06.94-2.06 2.06-.94-2.06-.94-.94-2.06-.94 2.06-2.06.94zm-11 1L8.5 8.5l.94-2.06 2.06-.94-2.06-.94L8.5 2.5l-.94 2.06-2.06.94zm10 10l.94 2.06.94-2.06 2.06-.94-2.06-.94-.94-2.06-.94 2.06-2.06.94z\"/><path d=\"M17.41 7.96l-1.37-1.37c-.4-.4-.92-.59-1.43-.59-.52 0-1.04.2-1.43.59L10.3 9.45l-7.72 7.72c-.78.78-.78 2.05 0 2.83L4 21.41c.39.39.9.59 1.41.59.51 0 1.02-.2 1.41-.59l7.78-7.78 2.81-2.81c.8-.78.8-2.07 0-2.86zM5.41 20L4 18.59l7.72-7.72 1.47 1.35L5.41 20z\"/>\n",
       "  </svg>\n",
       "      </button>\n",
       "      \n",
       "  <style>\n",
       "    .colab-df-container {\n",
       "      display:flex;\n",
       "      flex-wrap:wrap;\n",
       "      gap: 12px;\n",
       "    }\n",
       "\n",
       "    .colab-df-convert {\n",
       "      background-color: #E8F0FE;\n",
       "      border: none;\n",
       "      border-radius: 50%;\n",
       "      cursor: pointer;\n",
       "      display: none;\n",
       "      fill: #1967D2;\n",
       "      height: 32px;\n",
       "      padding: 0 0 0 0;\n",
       "      width: 32px;\n",
       "    }\n",
       "\n",
       "    .colab-df-convert:hover {\n",
       "      background-color: #E2EBFA;\n",
       "      box-shadow: 0px 1px 2px rgba(60, 64, 67, 0.3), 0px 1px 3px 1px rgba(60, 64, 67, 0.15);\n",
       "      fill: #174EA6;\n",
       "    }\n",
       "\n",
       "    [theme=dark] .colab-df-convert {\n",
       "      background-color: #3B4455;\n",
       "      fill: #D2E3FC;\n",
       "    }\n",
       "\n",
       "    [theme=dark] .colab-df-convert:hover {\n",
       "      background-color: #434B5C;\n",
       "      box-shadow: 0px 1px 3px 1px rgba(0, 0, 0, 0.15);\n",
       "      filter: drop-shadow(0px 1px 2px rgba(0, 0, 0, 0.3));\n",
       "      fill: #FFFFFF;\n",
       "    }\n",
       "  </style>\n",
       "\n",
       "      <script>\n",
       "        const buttonEl =\n",
       "          document.querySelector('#df-df9054d5-5d44-4c33-a17c-098c39ee30e4 button.colab-df-convert');\n",
       "        buttonEl.style.display =\n",
       "          google.colab.kernel.accessAllowed ? 'block' : 'none';\n",
       "\n",
       "        async function convertToInteractive(key) {\n",
       "          const element = document.querySelector('#df-df9054d5-5d44-4c33-a17c-098c39ee30e4');\n",
       "          const dataTable =\n",
       "            await google.colab.kernel.invokeFunction('convertToInteractive',\n",
       "                                                     [key], {});\n",
       "          if (!dataTable) return;\n",
       "\n",
       "          const docLinkHtml = 'Like what you see? Visit the ' +\n",
       "            '<a target=\"_blank\" href=https://colab.research.google.com/notebooks/data_table.ipynb>data table notebook</a>'\n",
       "            + ' to learn more about interactive tables.';\n",
       "          element.innerHTML = '';\n",
       "          dataTable['output_type'] = 'display_data';\n",
       "          await google.colab.output.renderOutput(dataTable, element);\n",
       "          const docLink = document.createElement('div');\n",
       "          docLink.innerHTML = docLinkHtml;\n",
       "          element.appendChild(docLink);\n",
       "        }\n",
       "      </script>\n",
       "    </div>\n",
       "  </div>\n",
       "  "
      ],
      "text/plain": [
       "              name      sector            category country  \\\n",
       "5        Aeternity  Technology  Financial Services  Europe   \n",
       "13    Intello Labs  Technology  Financial Services      US   \n",
       "14  lithium cycles  Technology  Financial Services      US   \n",
       "\n",
       "       operating_status      ipo patents trademarks      hub  \\\n",
       "5                   IPO  Private       1          0  Unicorn   \n",
       "13  Early Stage Venture  Private       0          0  Unicorn   \n",
       "14                  IPO  Private       7          0  Unicorn   \n",
       "\n",
       "   latest_funding_type_column  ... Active  Early Stage Venture  IPO  \\\n",
       "5      Initial Coin Offering   ...      0                    0    1   \n",
       "13                  Series A   ...      0                    1    0   \n",
       "14             Venture Round   ...      0                    0    1   \n",
       "\n",
       "    Late Stage Venture  M&A  Private Equity  Seed  Delisted  Private  Public  \n",
       "5                    0    0               0     0         0        1       0  \n",
       "13                   0    0               0     0         0        1       0  \n",
       "14                   0    0               0     0         0        1       0  \n",
       "\n",
       "[3 rows x 34 columns]"
      ]
     },
     "execution_count": 76,
     "metadata": {},
     "output_type": "execute_result"
    }
   ],
   "source": [
    "# creating dummy variables for each category value\n",
    "ipo_dummy_variables = pd.get_dummies(operating_status['ipo'])\n",
    "\n",
    "# concatenate the df_merged dataframe and category_dummy_variables together\n",
    "ipos = pd.concat([operating_status, ipo_dummy_variables], axis=1, join='inner')\n",
    "\n",
    "# view the first 3 rows of the new dataframe\n",
    "ipos.head(3)"
   ]
  },
  {
   "cell_type": "markdown",
   "metadata": {
    "id": "kGVlrF6fFXdq"
   },
   "source": [
    "**5. DUMMY ENCODE THE 'HUB' VARIABLE**\n",
    "\n",
    "The 'Hub' variable, as well, consists of different types of startup hubs, e.g. unicorns, emerging unicorns, exiting unicorns, etc. \n",
    "\n",
    "In this section, we assign each of these unique types some dummy variables, in order to determine later (in the classification section) whether the success of a company is dependent on the type of hub. "
   ]
  },
  {
   "cell_type": "markdown",
   "metadata": {
    "id": "0oLWxVjFHwgt"
   },
   "source": [
    "5A. CHECK HOW MANY DIFFERENT HUB TYPES ARE AVAILABLE IN THE DATASET"
   ]
  },
  {
   "cell_type": "code",
   "execution_count": 77,
   "metadata": {
    "colab": {
     "base_uri": "https://localhost:8080/"
    },
    "id": "ldGlvzkiHU3e",
    "outputId": "725f2255-746f-467f-b0de-2732db749316"
   },
   "outputs": [
    {
     "name": "stdout",
     "output_type": "stream",
     "text": [
      "                  hub\n",
      "Unicorn           267\n",
      "Emerging Unicorn    8\n",
      "Exited Unicorn      7\n",
      "Pledge 1%           1 \n",
      "\n",
      "There are 4 different hub types in the dataset\n"
     ]
    }
   ],
   "source": [
    "# view the different hub types available in the dataset\n",
    "hub_values = ipos['hub'].value_counts().to_frame()\n",
    "print(hub_values, '\\n')\n",
    "\n",
    "# print the number of unique hubs in the dataset \n",
    "print('There are', hub_values.shape[0],'different hub types in the dataset')"
   ]
  },
  {
   "cell_type": "markdown",
   "metadata": {
    "id": "ph2ZckjOHood"
   },
   "source": [
    "5B. SEPARATE EACH OF THESE HUB TYPES INTO DIFFERENT COLUMNS"
   ]
  },
  {
   "cell_type": "code",
   "execution_count": 78,
   "metadata": {
    "colab": {
     "base_uri": "https://localhost:8080/",
     "height": 286
    },
    "id": "SMGKw_6FQfvp",
    "outputId": "a1b71542-9a09-4ef1-9a1d-85ea8e71e641"
   },
   "outputs": [
    {
     "data": {
      "text/html": [
       "\n",
       "  <div id=\"df-adcfb404-05a7-45ae-8007-ab2390f5ef34\">\n",
       "    <div class=\"colab-df-container\">\n",
       "      <div>\n",
       "<style scoped>\n",
       "    .dataframe tbody tr th:only-of-type {\n",
       "        vertical-align: middle;\n",
       "    }\n",
       "\n",
       "    .dataframe tbody tr th {\n",
       "        vertical-align: top;\n",
       "    }\n",
       "\n",
       "    .dataframe thead th {\n",
       "        text-align: right;\n",
       "    }\n",
       "</style>\n",
       "<table border=\"1\" class=\"dataframe\">\n",
       "  <thead>\n",
       "    <tr style=\"text-align: right;\">\n",
       "      <th></th>\n",
       "      <th>name</th>\n",
       "      <th>sector</th>\n",
       "      <th>category</th>\n",
       "      <th>country</th>\n",
       "      <th>operating_status</th>\n",
       "      <th>ipo</th>\n",
       "      <th>patents</th>\n",
       "      <th>trademarks</th>\n",
       "      <th>hub</th>\n",
       "      <th>latest_funding_type_column</th>\n",
       "      <th>...</th>\n",
       "      <th>M&amp;A</th>\n",
       "      <th>Private Equity</th>\n",
       "      <th>Seed</th>\n",
       "      <th>Delisted</th>\n",
       "      <th>Private</th>\n",
       "      <th>Public</th>\n",
       "      <th>Emerging Unicorn</th>\n",
       "      <th>Exited Unicorn</th>\n",
       "      <th>Pledge 1%</th>\n",
       "      <th>Unicorn</th>\n",
       "    </tr>\n",
       "  </thead>\n",
       "  <tbody>\n",
       "    <tr>\n",
       "      <th>5</th>\n",
       "      <td>Aeternity</td>\n",
       "      <td>Technology</td>\n",
       "      <td>Financial Services</td>\n",
       "      <td>Europe</td>\n",
       "      <td>IPO</td>\n",
       "      <td>Private</td>\n",
       "      <td>1</td>\n",
       "      <td>0</td>\n",
       "      <td>Unicorn</td>\n",
       "      <td>Initial Coin Offering</td>\n",
       "      <td>...</td>\n",
       "      <td>0</td>\n",
       "      <td>0</td>\n",
       "      <td>0</td>\n",
       "      <td>0</td>\n",
       "      <td>1</td>\n",
       "      <td>0</td>\n",
       "      <td>0</td>\n",
       "      <td>0</td>\n",
       "      <td>0</td>\n",
       "      <td>1</td>\n",
       "    </tr>\n",
       "    <tr>\n",
       "      <th>13</th>\n",
       "      <td>Intello Labs</td>\n",
       "      <td>Technology</td>\n",
       "      <td>Financial Services</td>\n",
       "      <td>US</td>\n",
       "      <td>Early Stage Venture</td>\n",
       "      <td>Private</td>\n",
       "      <td>0</td>\n",
       "      <td>0</td>\n",
       "      <td>Unicorn</td>\n",
       "      <td>Series A</td>\n",
       "      <td>...</td>\n",
       "      <td>0</td>\n",
       "      <td>0</td>\n",
       "      <td>0</td>\n",
       "      <td>0</td>\n",
       "      <td>1</td>\n",
       "      <td>0</td>\n",
       "      <td>0</td>\n",
       "      <td>0</td>\n",
       "      <td>0</td>\n",
       "      <td>1</td>\n",
       "    </tr>\n",
       "    <tr>\n",
       "      <th>14</th>\n",
       "      <td>lithium cycles</td>\n",
       "      <td>Technology</td>\n",
       "      <td>Financial Services</td>\n",
       "      <td>US</td>\n",
       "      <td>IPO</td>\n",
       "      <td>Private</td>\n",
       "      <td>7</td>\n",
       "      <td>0</td>\n",
       "      <td>Unicorn</td>\n",
       "      <td>Venture Round</td>\n",
       "      <td>...</td>\n",
       "      <td>0</td>\n",
       "      <td>0</td>\n",
       "      <td>0</td>\n",
       "      <td>0</td>\n",
       "      <td>1</td>\n",
       "      <td>0</td>\n",
       "      <td>0</td>\n",
       "      <td>0</td>\n",
       "      <td>0</td>\n",
       "      <td>1</td>\n",
       "    </tr>\n",
       "  </tbody>\n",
       "</table>\n",
       "<p>3 rows × 38 columns</p>\n",
       "</div>\n",
       "      <button class=\"colab-df-convert\" onclick=\"convertToInteractive('df-adcfb404-05a7-45ae-8007-ab2390f5ef34')\"\n",
       "              title=\"Convert this dataframe to an interactive table.\"\n",
       "              style=\"display:none;\">\n",
       "        \n",
       "  <svg xmlns=\"http://www.w3.org/2000/svg\" height=\"24px\"viewBox=\"0 0 24 24\"\n",
       "       width=\"24px\">\n",
       "    <path d=\"M0 0h24v24H0V0z\" fill=\"none\"/>\n",
       "    <path d=\"M18.56 5.44l.94 2.06.94-2.06 2.06-.94-2.06-.94-.94-2.06-.94 2.06-2.06.94zm-11 1L8.5 8.5l.94-2.06 2.06-.94-2.06-.94L8.5 2.5l-.94 2.06-2.06.94zm10 10l.94 2.06.94-2.06 2.06-.94-2.06-.94-.94-2.06-.94 2.06-2.06.94z\"/><path d=\"M17.41 7.96l-1.37-1.37c-.4-.4-.92-.59-1.43-.59-.52 0-1.04.2-1.43.59L10.3 9.45l-7.72 7.72c-.78.78-.78 2.05 0 2.83L4 21.41c.39.39.9.59 1.41.59.51 0 1.02-.2 1.41-.59l7.78-7.78 2.81-2.81c.8-.78.8-2.07 0-2.86zM5.41 20L4 18.59l7.72-7.72 1.47 1.35L5.41 20z\"/>\n",
       "  </svg>\n",
       "      </button>\n",
       "      \n",
       "  <style>\n",
       "    .colab-df-container {\n",
       "      display:flex;\n",
       "      flex-wrap:wrap;\n",
       "      gap: 12px;\n",
       "    }\n",
       "\n",
       "    .colab-df-convert {\n",
       "      background-color: #E8F0FE;\n",
       "      border: none;\n",
       "      border-radius: 50%;\n",
       "      cursor: pointer;\n",
       "      display: none;\n",
       "      fill: #1967D2;\n",
       "      height: 32px;\n",
       "      padding: 0 0 0 0;\n",
       "      width: 32px;\n",
       "    }\n",
       "\n",
       "    .colab-df-convert:hover {\n",
       "      background-color: #E2EBFA;\n",
       "      box-shadow: 0px 1px 2px rgba(60, 64, 67, 0.3), 0px 1px 3px 1px rgba(60, 64, 67, 0.15);\n",
       "      fill: #174EA6;\n",
       "    }\n",
       "\n",
       "    [theme=dark] .colab-df-convert {\n",
       "      background-color: #3B4455;\n",
       "      fill: #D2E3FC;\n",
       "    }\n",
       "\n",
       "    [theme=dark] .colab-df-convert:hover {\n",
       "      background-color: #434B5C;\n",
       "      box-shadow: 0px 1px 3px 1px rgba(0, 0, 0, 0.15);\n",
       "      filter: drop-shadow(0px 1px 2px rgba(0, 0, 0, 0.3));\n",
       "      fill: #FFFFFF;\n",
       "    }\n",
       "  </style>\n",
       "\n",
       "      <script>\n",
       "        const buttonEl =\n",
       "          document.querySelector('#df-adcfb404-05a7-45ae-8007-ab2390f5ef34 button.colab-df-convert');\n",
       "        buttonEl.style.display =\n",
       "          google.colab.kernel.accessAllowed ? 'block' : 'none';\n",
       "\n",
       "        async function convertToInteractive(key) {\n",
       "          const element = document.querySelector('#df-adcfb404-05a7-45ae-8007-ab2390f5ef34');\n",
       "          const dataTable =\n",
       "            await google.colab.kernel.invokeFunction('convertToInteractive',\n",
       "                                                     [key], {});\n",
       "          if (!dataTable) return;\n",
       "\n",
       "          const docLinkHtml = 'Like what you see? Visit the ' +\n",
       "            '<a target=\"_blank\" href=https://colab.research.google.com/notebooks/data_table.ipynb>data table notebook</a>'\n",
       "            + ' to learn more about interactive tables.';\n",
       "          element.innerHTML = '';\n",
       "          dataTable['output_type'] = 'display_data';\n",
       "          await google.colab.output.renderOutput(dataTable, element);\n",
       "          const docLink = document.createElement('div');\n",
       "          docLink.innerHTML = docLinkHtml;\n",
       "          element.appendChild(docLink);\n",
       "        }\n",
       "      </script>\n",
       "    </div>\n",
       "  </div>\n",
       "  "
      ],
      "text/plain": [
       "              name      sector            category country  \\\n",
       "5        Aeternity  Technology  Financial Services  Europe   \n",
       "13    Intello Labs  Technology  Financial Services      US   \n",
       "14  lithium cycles  Technology  Financial Services      US   \n",
       "\n",
       "       operating_status      ipo patents trademarks      hub  \\\n",
       "5                   IPO  Private       1          0  Unicorn   \n",
       "13  Early Stage Venture  Private       0          0  Unicorn   \n",
       "14                  IPO  Private       7          0  Unicorn   \n",
       "\n",
       "   latest_funding_type_column  ... M&A  Private Equity  Seed  Delisted  \\\n",
       "5      Initial Coin Offering   ...   0               0     0         0   \n",
       "13                  Series A   ...   0               0     0         0   \n",
       "14             Venture Round   ...   0               0     0         0   \n",
       "\n",
       "    Private  Public  Emerging Unicorn  Exited Unicorn  Pledge 1%  Unicorn  \n",
       "5         1       0                 0               0          0        1  \n",
       "13        1       0                 0               0          0        1  \n",
       "14        1       0                 0               0          0        1  \n",
       "\n",
       "[3 rows x 38 columns]"
      ]
     },
     "execution_count": 78,
     "metadata": {},
     "output_type": "execute_result"
    }
   ],
   "source": [
    "# creating dummy variables for each category value\n",
    "hub_dummy_variables = pd.get_dummies(ipos['hub'])\n",
    "\n",
    "# concatenate the df_merged dataframe and category_dummy_variables together\n",
    "hubs = pd.concat([ipos, hub_dummy_variables], axis=1, join='inner')\n",
    "\n",
    "# view the first 3 rows of the new dataframe\n",
    "hubs.head(3)"
   ]
  },
  {
   "cell_type": "markdown",
   "metadata": {
    "id": "pQNBE4R1Tccg"
   },
   "source": [
    "# GRAPHICAL EXPLORATORY DATA ANALYSIS SECTION: DATA VISUALIZATION -- FOR FINTECH COMPANIES\n",
    "\n",
    "Here, we shall perform a graphical exploratory data analysis that will help visualize data trends in form of bar graphs"
   ]
  },
  {
   "cell_type": "markdown",
   "metadata": {
    "id": "DA4izYk4suEW"
   },
   "source": [
    "**START BY DEFINING A FUNCTION THAT WILL PLOT THE BAR GRAPHS FOR EACH VARIABLE**"
   ]
  },
  {
   "cell_type": "code",
   "execution_count": 19,
   "metadata": {
    "id": "kIZecVo2dtw7"
   },
   "outputs": [],
   "source": [
    "# define the function that will plot the bar graphs for each variable\n",
    "def graphical_eda_graphs(column_name):\n",
    "  successful_companies = hubs[hubs['success_labels']==1]\n",
    "  unsuccessful_companies = hubs[hubs['success_labels']==0]\n",
    "  \n",
    "  # set the size of the figure plot\n",
    "  plt.figure(figsize=(15,6))\n",
    "\n",
    "  # set \n",
    "  successful=plt.bar(successful_companies[column_name].value_counts().index, successful_companies[column_name].value_counts().values, alpha=0.8, color=\"red\")\n",
    "  unsuccessful=plt.bar(unsuccessful_companies[column_name].value_counts().index,unsuccessful_companies[column_name].value_counts().values, alpha=0.8, color=\"grey\")\n",
    "\n",
    "  # formatting the plot\n",
    "  plt.ylabel('Frequency', fontsize=15)\n",
    "  plt.xlabel(column_name, fontsize=15)\n",
    "  plt.xticks(rotation=90, fontsize=12)\n",
    "  plt.yticks( range(0,200,10) )\n",
    "  plt.legend((successful[0], unsuccessful[0]), ('Success', 'Failure'))\n",
    "  plt.title(f'Successful and unsuccesful startups for each {column_name}')\n",
    "  plt.show();"
   ]
  },
  {
   "cell_type": "markdown",
   "metadata": {
    "id": "qDdMhOsAm8_H"
   },
   "source": [
    "**1. GRAPHICAL EXPLORATORY DATA ANALYSIS: SECTORS** \n",
    "\n",
    "This section plots the successful and unsuccessful companies in different sectors"
   ]
  },
  {
   "cell_type": "code",
   "execution_count": 20,
   "metadata": {
    "colab": {
     "base_uri": "https://localhost:8080/",
     "height": 522
    },
    "id": "hmCMT9tCbqVo",
    "outputId": "ffdeb3ac-192a-42df-96e2-5f4b1357ac7a"
   },
   "outputs": [
    {
     "data": {
      "image/png": "[encoded data removed]",
      "text/plain": [
       "<Figure size 1080x432 with 1 Axes>"
      ]
     },
     "metadata": {
      "needs_background": "light"
     },
     "output_type": "display_data"
    }
   ],
   "source": [
    "# call the function to plot the bar graphs for the 'sector' column\n",
    "graphical_eda_graphs('sector')"
   ]
  },
  {
   "cell_type": "markdown",
   "metadata": {
    "id": "1moW1t3w0K_x"
   },
   "source": [
    "**Insights: **\n",
    "\n",
    "From the results above, majority of the startups are working in the technology sector. \n",
    "\n",
    "*   Out of these, 130 of them have been successful \n",
    "*   However, another 190 have been unsuccessful\n",
    "\n"
   ]
  },
  {
   "cell_type": "markdown",
   "metadata": {
    "id": "kVnWqbqZnlEB"
   },
   "source": [
    "**2. GRAPHICAL EXPLORATORY DATA ANALYSIS: CATEGORIES** \n",
    "\n",
    "This section plots the successful and unsuccessful companies in different categories "
   ]
  },
  {
   "cell_type": "code",
   "execution_count": 21,
   "metadata": {
    "colab": {
     "base_uri": "https://localhost:8080/",
     "height": 506
    },
    "id": "_Z4c4grUw5SP",
    "outputId": "be5a7442-07bc-49ac-904e-59b1d03c1ed1"
   },
   "outputs": [
    {
     "data": {
      "image/png": "[encoded data removed]",
      "text/plain": [
       "<Figure size 1080x432 with 1 Axes>"
      ]
     },
     "metadata": {
      "needs_background": "light"
     },
     "output_type": "display_data"
    }
   ],
   "source": [
    "# call the function to plot the bar graphs for the 'category' column\n",
    "graphical_eda_graphs('category')"
   ]
  },
  {
   "cell_type": "markdown",
   "metadata": {
    "id": "PCAOMOb15EPF"
   },
   "source": [
    "**Insights: **\n",
    "\n",
    "From the results above, majority of the startups are working in the financial services (fintech) category. \n",
    "\n",
    "*   Out of these, 70 of them have been successful \n",
    "*   And another 140 have been unsuccessful\n",
    "\n"
   ]
  },
  {
   "cell_type": "markdown",
   "metadata": {
    "id": "ZFOqGUuPpxOW"
   },
   "source": [
    "**3. GRAPHICAL EXPLORATORY DATA ANALYSIS: COUNTRIES** \n",
    "\n",
    "This section plots the successful and unsuccessful companies in different countries"
   ]
  },
  {
   "cell_type": "code",
   "execution_count": 22,
   "metadata": {
    "colab": {
     "base_uri": "https://localhost:8080/",
     "height": 489
    },
    "id": "EXqQchcYxA4u",
    "outputId": "cc78aedd-52f2-49b1-af14-a40dc67df050"
   },
   "outputs": [
    {
     "data": {
      "image/png": "[encoded data removed]",
      "text/plain": [
       "<Figure size 1080x432 with 1 Axes>"
      ]
     },
     "metadata": {
      "needs_background": "light"
     },
     "output_type": "display_data"
    }
   ],
   "source": [
    "# call the function to plot the bar graphs for the 'country' column\n",
    "graphical_eda_graphs('country')"
   ]
  },
  {
   "cell_type": "markdown",
   "metadata": {
    "id": "ev5fai4c5f3K"
   },
   "source": [
    "**Insights: **\n",
    "\n",
    "From the results above, majority of the startups are located in the US. \n",
    "\n",
    "*   Out of these, 190 of them have been successful \n",
    "*   Also, another 250 have been unsuccessful\n",
    "\n"
   ]
  },
  {
   "cell_type": "markdown",
   "metadata": {
    "id": "pAvIvFasp-CC"
   },
   "source": [
    "**4. GRAPHICAL EXPLORATORY DATA ANALYSIS: OPERATING STATUS** \n",
    "\n",
    "This section plots the successful and unsuccessful companies for different operating status levels"
   ]
  },
  {
   "cell_type": "code",
   "execution_count": 23,
   "metadata": {
    "colab": {
     "base_uri": "https://localhost:8080/",
     "height": 520
    },
    "id": "UMEZnXRsxF98",
    "outputId": "0decd4f3-1a88-4fd2-da0c-6456ffc9e7a1"
   },
   "outputs": [
    {
     "data": {
      "image/png": "[encoded data removed]",
      "text/plain": [
       "<Figure size 1080x432 with 1 Axes>"
      ]
     },
     "metadata": {
      "needs_background": "light"
     },
     "output_type": "display_data"
    }
   ],
   "source": [
    "# call the function to plot the bar graphs for the 'operating status' column\n",
    "graphical_eda_graphs('operating_status')"
   ]
  },
  {
   "cell_type": "markdown",
   "metadata": {
    "id": "SE6tNFep5x3m"
   },
   "source": [
    "**Insights: **\n",
    "\n",
    "From the results above, majority of the startups have launched an IPO. \n",
    "\n",
    "*   Out of these, 110 of them have been successful \n",
    "*   However, another 170 have been unsuccessful\n",
    "\n"
   ]
  },
  {
   "cell_type": "markdown",
   "metadata": {
    "id": "L1qBXNjSqKMh"
   },
   "source": [
    "**5. GRAPHICAL EXPLORATORY DATA ANALYSIS: IPO** \n",
    "\n",
    "This section plots the successful and unsuccessful companies for different IPO types "
   ]
  },
  {
   "cell_type": "code",
   "execution_count": 24,
   "metadata": {
    "colab": {
     "base_uri": "https://localhost:8080/",
     "height": 449
    },
    "id": "5v1wvJH0xLtm",
    "outputId": "2d7133ef-a6bd-43bd-cc1d-60467c36e819"
   },
   "outputs": [
    {
     "data": {
      "image/png": "[encoded data removed]",
      "text/plain": [
       "<Figure size 1080x432 with 1 Axes>"
      ]
     },
     "metadata": {
      "needs_background": "light"
     },
     "output_type": "display_data"
    }
   ],
   "source": [
    "# call the function to plot the bar graphs for the 'ipo' column\n",
    "graphical_eda_graphs('ipo')"
   ]
  },
  {
   "cell_type": "markdown",
   "metadata": {
    "id": "6eoWwzEn6ifK"
   },
   "source": [
    "**Insights: **\n",
    "\n",
    "From the results above, majority of the startups actually launched a private IPO, as opposed to launching a public IPO.\n",
    "\n",
    "*   Private IPO is the process of raising capital through private placements, such as pension funds, venture capitalists, and angel investors. In return for purchasing through private IPO, these entities get a certain percent of ownership in the company.\n",
    "*   This process is in contrast to public IPO, where companies sell shares to the public to raise their capital. \n",
    "\n",
    "From the results above, it seems majority of the startups favor private IPOs to public ones. Out of all those who applied for private IPOs:\n",
    "\n",
    "*   230 of them have been successful \n",
    "*   And also, 230 of them have been unsuccessful\n",
    "\n"
   ]
  },
  {
   "cell_type": "markdown",
   "metadata": {
    "id": "u4ecwbloqdqG"
   },
   "source": [
    "**6. GRAPHICAL EXPLORATORY DATA ANALYSIS: HUB** \n",
    "\n",
    "This section plots the successful and unsuccessful companies for different hub types "
   ]
  },
  {
   "cell_type": "code",
   "execution_count": 25,
   "metadata": {
    "colab": {
     "base_uri": "https://localhost:8080/",
     "height": 506
    },
    "id": "W7TZEbElxV_C",
    "outputId": "c01ae00d-51e0-49fd-f068-f89140e2f974"
   },
   "outputs": [
    {
     "data": {
      "image/png": "[encoded data removed]",
      "text/plain": [
       "<Figure size 1080x432 with 1 Axes>"
      ]
     },
     "metadata": {
      "needs_background": "light"
     },
     "output_type": "display_data"
    }
   ],
   "source": [
    "# call the function to plot the bar graphs for the 'hub' column\n",
    "graphical_eda_graphs('hub')"
   ]
  },
  {
   "cell_type": "markdown",
   "metadata": {
    "id": "TaDRd1Vi8Rrh"
   },
   "source": [
    "**Insights: **\n",
    "\n",
    "From the results above, majority of the startups are actually unicorns. The term unicorn refers to a privately held startup company with a value of over $1 billion. It is commonly used in the venture capital industry.   \n",
    "\n",
    "From the results above, it is evident that majority of the startups are, indeed unicorns. Out of all these:\n",
    "\n",
    "*   230 of these have been successful \n",
    "*   Also, more than 230 of them have been unsuccessful, as well\n",
    "\n"
   ]
  },
  {
   "cell_type": "markdown",
   "metadata": {
    "id": "C_I9THuF5Yd4"
   },
   "source": [
    "# THE TRAIN TEST SPLIT\n",
    "\n",
    "Now that the dataset has been cleaned, preprocessed, and feature engineered, the next thing to do is to split the dataset into and train and test section\n",
    "\n",
    "*   The train section - Used to fit the machine learning models onto the data so that it can learn the data patterns and relationships\n",
    "*   The test section - Used to evaluate the performance of the machine learning models on the unseen observations\n",
    "\n"
   ]
  },
  {
   "cell_type": "markdown",
   "metadata": {
    "id": "1Kj61SkG5fT6"
   },
   "source": [
    "**1. PRINT NUMBER OF ROWS AND COLUMNS OF THE FINAL DATAFRAME**"
   ]
  },
  {
   "cell_type": "code",
   "execution_count": 79,
   "metadata": {
    "colab": {
     "base_uri": "https://localhost:8080/"
    },
    "id": "VafAHVQs8MDD",
    "outputId": "957f1942-e605-428b-91e0-9eefd088d5a9"
   },
   "outputs": [
    {
     "name": "stdout",
     "output_type": "stream",
     "text": [
      "The final dataframe has 283 rows and 38 columns\n"
     ]
    }
   ],
   "source": [
    "# first, print the number of rows and columns available in the final dataframe\n",
    "final_dataframe = hubs\n",
    "print('The final dataframe has',final_dataframe.shape[0],'rows and',final_dataframe.shape[1],'columns')"
   ]
  },
  {
   "cell_type": "markdown",
   "metadata": {
    "id": "A0vYeVPg-3zC"
   },
   "source": [
    "**2. CHECK THE METADATA INFO() OF THE FINAL DATAFRAME AFTER THE FEATURE ENGINEERING PROCESS**"
   ]
  },
  {
   "cell_type": "code",
   "execution_count": 80,
   "metadata": {
    "colab": {
     "base_uri": "https://localhost:8080/"
    },
    "id": "EDg3NvJzTbBf",
    "outputId": "f186345a-bd15-4b19-9b32-aad0d2f628b3"
   },
   "outputs": [
    {
     "name": "stdout",
     "output_type": "stream",
     "text": [
      "<class 'pandas.core.frame.DataFrame'>\n",
      "Int64Index: 283 entries, 5 to 550\n",
      "Data columns (total 38 columns):\n",
      " #   Column                             Non-Null Count  Dtype  \n",
      "---  ------                             --------------  -----  \n",
      " 0   name                               250 non-null    object \n",
      " 1   sector                             283 non-null    object \n",
      " 2   category                           283 non-null    object \n",
      " 3   country                            283 non-null    object \n",
      " 4   operating_status                   283 non-null    object \n",
      " 5   ipo                                283 non-null    object \n",
      " 6   patents                            283 non-null    object \n",
      " 7   trademarks                         283 non-null    object \n",
      " 8   hub                                283 non-null    object \n",
      " 9   latest_funding_type_column         283 non-null    object \n",
      " 10  second_latest_funding_type_column  283 non-null    object \n",
      " 11  latest_funding_year                283 non-null    int64  \n",
      " 12  second_latest_funding_year         283 non-null    int64  \n",
      " 13  founded                            283 non-null    float64\n",
      " 14  success_labels                     283 non-null    float64\n",
      " 15  Canada                             283 non-null    uint8  \n",
      " 16  EU                                 283 non-null    uint8  \n",
      " 17  Eastern Asia                       283 non-null    uint8  \n",
      " 18  Europe                             283 non-null    uint8  \n",
      " 19  India                              283 non-null    uint8  \n",
      " 20  Latam                              283 non-null    uint8  \n",
      " 21  Southeast Asia                     283 non-null    uint8  \n",
      " 22  UK                                 283 non-null    uint8  \n",
      " 23  US                                 283 non-null    uint8  \n",
      " 24  Active                             283 non-null    uint8  \n",
      " 25  Early Stage Venture                283 non-null    uint8  \n",
      " 26  IPO                                283 non-null    uint8  \n",
      " 27  Late Stage Venture                 283 non-null    uint8  \n",
      " 28  M&A                                283 non-null    uint8  \n",
      " 29  Private Equity                     283 non-null    uint8  \n",
      " 30  Seed                               283 non-null    uint8  \n",
      " 31  Delisted                           283 non-null    uint8  \n",
      " 32  Private                            283 non-null    uint8  \n",
      " 33  Public                             283 non-null    uint8  \n",
      " 34  Emerging Unicorn                   283 non-null    uint8  \n",
      " 35  Exited Unicorn                     283 non-null    uint8  \n",
      " 36  Pledge 1%                          283 non-null    uint8  \n",
      " 37  Unicorn                            283 non-null    uint8  \n",
      "dtypes: float64(2), int64(2), object(11), uint8(23)\n",
      "memory usage: 41.7+ KB\n",
      "None\n"
     ]
    }
   ],
   "source": [
    "# next, print the metadata info of the final dataframe after the feature engineering process\n",
    "print(final_dataframe.info())"
   ]
  },
  {
   "cell_type": "markdown",
   "metadata": {
    "id": "fpqedCn77eOW"
   },
   "source": [
    "**Insights:**\n",
    "\n",
    "From the results above, the final dataframe has several columns that have the 'object' datatype. "
   ]
  },
  {
   "cell_type": "markdown",
   "metadata": {
    "id": "ONsCmlVb9Q-M"
   },
   "source": [
    "**3. DROP THE COLUMNS WITH THE 'OBJECT' DATA TYPES**\n",
    "\n",
    "No machine learning model can work with object datatypes, thus we will drop these particular columns with the object datatypes and only remain with those columns that have either the 'uint8' datatype or the 'float64' datatype"
   ]
  },
  {
   "cell_type": "code",
   "execution_count": 81,
   "metadata": {
    "colab": {
     "base_uri": "https://localhost:8080/",
     "height": 236
    },
    "id": "W3LGJeyKAjIu",
    "outputId": "f03c020c-3c7f-41d8-9e2b-bf574e5436af"
   },
   "outputs": [
    {
     "data": {
      "text/html": [
       "\n",
       "  <div id=\"df-464be950-d3f8-464f-a983-5f2186778ffd\">\n",
       "    <div class=\"colab-df-container\">\n",
       "      <div>\n",
       "<style scoped>\n",
       "    .dataframe tbody tr th:only-of-type {\n",
       "        vertical-align: middle;\n",
       "    }\n",
       "\n",
       "    .dataframe tbody tr th {\n",
       "        vertical-align: top;\n",
       "    }\n",
       "\n",
       "    .dataframe thead th {\n",
       "        text-align: right;\n",
       "    }\n",
       "</style>\n",
       "<table border=\"1\" class=\"dataframe\">\n",
       "  <thead>\n",
       "    <tr style=\"text-align: right;\">\n",
       "      <th></th>\n",
       "      <th>name</th>\n",
       "      <th>founded</th>\n",
       "      <th>success_labels</th>\n",
       "      <th>Canada</th>\n",
       "      <th>EU</th>\n",
       "      <th>Eastern Asia</th>\n",
       "      <th>Europe</th>\n",
       "      <th>India</th>\n",
       "      <th>Latam</th>\n",
       "      <th>Southeast Asia</th>\n",
       "      <th>...</th>\n",
       "      <th>M&amp;A</th>\n",
       "      <th>Private Equity</th>\n",
       "      <th>Seed</th>\n",
       "      <th>Delisted</th>\n",
       "      <th>Private</th>\n",
       "      <th>Public</th>\n",
       "      <th>Emerging Unicorn</th>\n",
       "      <th>Exited Unicorn</th>\n",
       "      <th>Pledge 1%</th>\n",
       "      <th>Unicorn</th>\n",
       "    </tr>\n",
       "  </thead>\n",
       "  <tbody>\n",
       "    <tr>\n",
       "      <th>5</th>\n",
       "      <td>Aeternity</td>\n",
       "      <td>2016.0</td>\n",
       "      <td>1.0</td>\n",
       "      <td>0</td>\n",
       "      <td>0</td>\n",
       "      <td>0</td>\n",
       "      <td>1</td>\n",
       "      <td>0</td>\n",
       "      <td>0</td>\n",
       "      <td>0</td>\n",
       "      <td>...</td>\n",
       "      <td>0</td>\n",
       "      <td>0</td>\n",
       "      <td>0</td>\n",
       "      <td>0</td>\n",
       "      <td>1</td>\n",
       "      <td>0</td>\n",
       "      <td>0</td>\n",
       "      <td>0</td>\n",
       "      <td>0</td>\n",
       "      <td>1</td>\n",
       "    </tr>\n",
       "    <tr>\n",
       "      <th>13</th>\n",
       "      <td>Intello Labs</td>\n",
       "      <td>2011.0</td>\n",
       "      <td>1.0</td>\n",
       "      <td>0</td>\n",
       "      <td>0</td>\n",
       "      <td>0</td>\n",
       "      <td>0</td>\n",
       "      <td>0</td>\n",
       "      <td>0</td>\n",
       "      <td>0</td>\n",
       "      <td>...</td>\n",
       "      <td>0</td>\n",
       "      <td>0</td>\n",
       "      <td>0</td>\n",
       "      <td>0</td>\n",
       "      <td>1</td>\n",
       "      <td>0</td>\n",
       "      <td>0</td>\n",
       "      <td>0</td>\n",
       "      <td>0</td>\n",
       "      <td>1</td>\n",
       "    </tr>\n",
       "    <tr>\n",
       "      <th>14</th>\n",
       "      <td>lithium cycles</td>\n",
       "      <td>2011.0</td>\n",
       "      <td>1.0</td>\n",
       "      <td>0</td>\n",
       "      <td>0</td>\n",
       "      <td>0</td>\n",
       "      <td>0</td>\n",
       "      <td>0</td>\n",
       "      <td>0</td>\n",
       "      <td>0</td>\n",
       "      <td>...</td>\n",
       "      <td>0</td>\n",
       "      <td>0</td>\n",
       "      <td>0</td>\n",
       "      <td>0</td>\n",
       "      <td>1</td>\n",
       "      <td>0</td>\n",
       "      <td>0</td>\n",
       "      <td>0</td>\n",
       "      <td>0</td>\n",
       "      <td>1</td>\n",
       "    </tr>\n",
       "    <tr>\n",
       "      <th>19</th>\n",
       "      <td>The DAO</td>\n",
       "      <td>2016.0</td>\n",
       "      <td>1.0</td>\n",
       "      <td>0</td>\n",
       "      <td>1</td>\n",
       "      <td>0</td>\n",
       "      <td>0</td>\n",
       "      <td>0</td>\n",
       "      <td>0</td>\n",
       "      <td>0</td>\n",
       "      <td>...</td>\n",
       "      <td>0</td>\n",
       "      <td>0</td>\n",
       "      <td>0</td>\n",
       "      <td>0</td>\n",
       "      <td>1</td>\n",
       "      <td>0</td>\n",
       "      <td>0</td>\n",
       "      <td>0</td>\n",
       "      <td>0</td>\n",
       "      <td>1</td>\n",
       "    </tr>\n",
       "    <tr>\n",
       "      <th>21</th>\n",
       "      <td>Aipoly</td>\n",
       "      <td>2011.0</td>\n",
       "      <td>1.0</td>\n",
       "      <td>0</td>\n",
       "      <td>0</td>\n",
       "      <td>0</td>\n",
       "      <td>0</td>\n",
       "      <td>0</td>\n",
       "      <td>0</td>\n",
       "      <td>0</td>\n",
       "      <td>...</td>\n",
       "      <td>0</td>\n",
       "      <td>0</td>\n",
       "      <td>0</td>\n",
       "      <td>0</td>\n",
       "      <td>1</td>\n",
       "      <td>0</td>\n",
       "      <td>0</td>\n",
       "      <td>0</td>\n",
       "      <td>0</td>\n",
       "      <td>1</td>\n",
       "    </tr>\n",
       "  </tbody>\n",
       "</table>\n",
       "<p>5 rows × 26 columns</p>\n",
       "</div>\n",
       "      <button class=\"colab-df-convert\" onclick=\"convertToInteractive('df-464be950-d3f8-464f-a983-5f2186778ffd')\"\n",
       "              title=\"Convert this dataframe to an interactive table.\"\n",
       "              style=\"display:none;\">\n",
       "        \n",
       "  <svg xmlns=\"http://www.w3.org/2000/svg\" height=\"24px\"viewBox=\"0 0 24 24\"\n",
       "       width=\"24px\">\n",
       "    <path d=\"M0 0h24v24H0V0z\" fill=\"none\"/>\n",
       "    <path d=\"M18.56 5.44l.94 2.06.94-2.06 2.06-.94-2.06-.94-.94-2.06-.94 2.06-2.06.94zm-11 1L8.5 8.5l.94-2.06 2.06-.94-2.06-.94L8.5 2.5l-.94 2.06-2.06.94zm10 10l.94 2.06.94-2.06 2.06-.94-2.06-.94-.94-2.06-.94 2.06-2.06.94z\"/><path d=\"M17.41 7.96l-1.37-1.37c-.4-.4-.92-.59-1.43-.59-.52 0-1.04.2-1.43.59L10.3 9.45l-7.72 7.72c-.78.78-.78 2.05 0 2.83L4 21.41c.39.39.9.59 1.41.59.51 0 1.02-.2 1.41-.59l7.78-7.78 2.81-2.81c.8-.78.8-2.07 0-2.86zM5.41 20L4 18.59l7.72-7.72 1.47 1.35L5.41 20z\"/>\n",
       "  </svg>\n",
       "      </button>\n",
       "      \n",
       "  <style>\n",
       "    .colab-df-container {\n",
       "      display:flex;\n",
       "      flex-wrap:wrap;\n",
       "      gap: 12px;\n",
       "    }\n",
       "\n",
       "    .colab-df-convert {\n",
       "      background-color: #E8F0FE;\n",
       "      border: none;\n",
       "      border-radius: 50%;\n",
       "      cursor: pointer;\n",
       "      display: none;\n",
       "      fill: #1967D2;\n",
       "      height: 32px;\n",
       "      padding: 0 0 0 0;\n",
       "      width: 32px;\n",
       "    }\n",
       "\n",
       "    .colab-df-convert:hover {\n",
       "      background-color: #E2EBFA;\n",
       "      box-shadow: 0px 1px 2px rgba(60, 64, 67, 0.3), 0px 1px 3px 1px rgba(60, 64, 67, 0.15);\n",
       "      fill: #174EA6;\n",
       "    }\n",
       "\n",
       "    [theme=dark] .colab-df-convert {\n",
       "      background-color: #3B4455;\n",
       "      fill: #D2E3FC;\n",
       "    }\n",
       "\n",
       "    [theme=dark] .colab-df-convert:hover {\n",
       "      background-color: #434B5C;\n",
       "      box-shadow: 0px 1px 3px 1px rgba(0, 0, 0, 0.15);\n",
       "      filter: drop-shadow(0px 1px 2px rgba(0, 0, 0, 0.3));\n",
       "      fill: #FFFFFF;\n",
       "    }\n",
       "  </style>\n",
       "\n",
       "      <script>\n",
       "        const buttonEl =\n",
       "          document.querySelector('#df-464be950-d3f8-464f-a983-5f2186778ffd button.colab-df-convert');\n",
       "        buttonEl.style.display =\n",
       "          google.colab.kernel.accessAllowed ? 'block' : 'none';\n",
       "\n",
       "        async function convertToInteractive(key) {\n",
       "          const element = document.querySelector('#df-464be950-d3f8-464f-a983-5f2186778ffd');\n",
       "          const dataTable =\n",
       "            await google.colab.kernel.invokeFunction('convertToInteractive',\n",
       "                                                     [key], {});\n",
       "          if (!dataTable) return;\n",
       "\n",
       "          const docLinkHtml = 'Like what you see? Visit the ' +\n",
       "            '<a target=\"_blank\" href=https://colab.research.google.com/notebooks/data_table.ipynb>data table notebook</a>'\n",
       "            + ' to learn more about interactive tables.';\n",
       "          element.innerHTML = '';\n",
       "          dataTable['output_type'] = 'display_data';\n",
       "          await google.colab.output.renderOutput(dataTable, element);\n",
       "          const docLink = document.createElement('div');\n",
       "          docLink.innerHTML = docLinkHtml;\n",
       "          element.appendChild(docLink);\n",
       "        }\n",
       "      </script>\n",
       "    </div>\n",
       "  </div>\n",
       "  "
      ],
      "text/plain": [
       "              name  founded  success_labels  Canada  EU  Eastern Asia  Europe  \\\n",
       "5        Aeternity   2016.0             1.0       0   0             0       1   \n",
       "13    Intello Labs   2011.0             1.0       0   0             0       0   \n",
       "14  lithium cycles   2011.0             1.0       0   0             0       0   \n",
       "19         The DAO   2016.0             1.0       0   1             0       0   \n",
       "21          Aipoly   2011.0             1.0       0   0             0       0   \n",
       "\n",
       "    India  Latam  Southeast Asia  ...  M&A  Private Equity  Seed  Delisted  \\\n",
       "5       0      0               0  ...    0               0     0         0   \n",
       "13      0      0               0  ...    0               0     0         0   \n",
       "14      0      0               0  ...    0               0     0         0   \n",
       "19      0      0               0  ...    0               0     0         0   \n",
       "21      0      0               0  ...    0               0     0         0   \n",
       "\n",
       "    Private  Public  Emerging Unicorn  Exited Unicorn  Pledge 1%  Unicorn  \n",
       "5         1       0                 0               0          0        1  \n",
       "13        1       0                 0               0          0        1  \n",
       "14        1       0                 0               0          0        1  \n",
       "19        1       0                 0               0          0        1  \n",
       "21        1       0                 0               0          0        1  \n",
       "\n",
       "[5 rows x 26 columns]"
      ]
     },
     "execution_count": 81,
     "metadata": {},
     "output_type": "execute_result"
    }
   ],
   "source": [
    "# drop the columns with the 'object' datatype\n",
    "final_dataframe_1 = final_dataframe\n",
    "final_dataframe_1 = final_dataframe_1.drop(columns=['sector', 'category', 'country', 'operating_status', 'ipo', 'patents', 'trademarks', 'hub',\n",
    "                                                     'latest_funding_type_column', 'second_latest_funding_type_column', 'latest_funding_year', 'second_latest_funding_year'])\n",
    "\n",
    "# view first five rows of the new dataframe\n",
    "final_dataframe_1.head()"
   ]
  },
  {
   "cell_type": "markdown",
   "metadata": {
    "id": "i-FCwl2E-tKL"
   },
   "source": [
    "**4. NEXT, SPLIT THE DATA INTO PREDICTOR AND RESPONSE VARIABLES**\n",
    "\n",
    "*   Predictor variables - The features that we engineered in the previous section in order to predict the success of the startup companies, e.g. type of country, ipo, hub, ipo, etc. \n",
    "*   Response variables - The labels or target variables which we are trying to predict. For this case, the response variable is the 'success' variable in the dataset\n",
    "\n"
   ]
  },
  {
   "cell_type": "code",
   "execution_count": 82,
   "metadata": {
    "id": "7-Y6f5OFAjF0"
   },
   "outputs": [],
   "source": [
    "# define the predictor variables/ features\n",
    "x = final_dataframe_1.drop(['name','success_labels'], axis=1)\n",
    "\n",
    "# define the response variable\n",
    "y = final_dataframe_1['success_labels']"
   ]
  },
  {
   "cell_type": "markdown",
   "metadata": {
    "id": "bupVCG9mAqrf"
   },
   "source": [
    "**5. NEXT, DEFINE THE KFOLD CROSS VALIDATION METHOD FOR THE TRAIN-TEST SPLIT**"
   ]
  },
  {
   "cell_type": "code",
   "execution_count": 83,
   "metadata": {
    "id": "yh-Wn8CPSb01"
   },
   "outputs": [],
   "source": [
    "cv = KFold(n_splits=5, random_state=1, shuffle=True)"
   ]
  },
  {
   "cell_type": "markdown",
   "metadata": {
    "id": "45uyiZrkjBZw"
   },
   "source": [
    "**6. THEN, DEFINE A FUNCTION FOR COMPUTING THE CONFUSION MATRIX AND ACCURACY SCORE** "
   ]
  },
  {
   "cell_type": "code",
   "execution_count": 84,
   "metadata": {
    "id": "u6IgV2xtZLHD"
   },
   "outputs": [],
   "source": [
    "def evaluate_model_performance(model, x, y, cv):\n",
    "  # Use k-fold CV to evaluate the model's accuracy\n",
    "  scores = cross_val_score(model, x, y, scoring='accuracy',\n",
    "                         cv=cv, n_jobs=-1)\n",
    "  \n",
    "  # Use k-fold CV to evaluate the model's confusion matrix\n",
    "  y_pred = cross_val_predict(model, x, y, cv=cv)\n",
    "  print('Confusion Matrix: ')\n",
    "  print(confusion_matrix(y, y_pred))\n",
    "  \n",
    "  #view mean absolute error\n",
    "  from numpy import mean, absolute, sqrt, std\n",
    "\n",
    "  # report performance\n",
    "  print('Accuracy Score: %.3f (%.3f)' % (mean(scores), std(scores)))"
   ]
  },
  {
   "cell_type": "markdown",
   "metadata": {
    "id": "qlMCP4ooELsf"
   },
   "source": [
    "**7. ALSO, DEFINE A FUNCTION THAT PLOTS THE ROC_AUC CURVE FOR EACH MODEL**"
   ]
  },
  {
   "cell_type": "code",
   "execution_count": 85,
   "metadata": {
    "id": "2RZkmuPtgnkA"
   },
   "outputs": [],
   "source": [
    "def plot_roc_auc_curve(model, x, y, cv=cv):\n",
    "  tprs = []\n",
    "  aucs = []\n",
    "  mean_fpr = np.linspace(0,1,100)\n",
    "  i = 1\n",
    "\n",
    "  # Compute the roc-auc curve\n",
    "  #for train,test in cv.split(x,y):\n",
    "  for train, test in cv.split(x):\n",
    "    prediction = model.fit(x.iloc[train],y.iloc[train]).predict_proba(x.iloc[test])\n",
    "    fpr, tpr, t = roc_curve(y.iloc[test], prediction[:, 1])\n",
    "    tprs.append(interp(mean_fpr, fpr, tpr))\n",
    "    roc_auc = auc(fpr, tpr)\n",
    "    aucs.append(roc_auc)\n",
    "    plt.plot(fpr, tpr, lw=2, alpha=0.3, label='ROC fold %d (AUC = %0.2f)' % (i, roc_auc))\n",
    "    i= i+1\n",
    "\n",
    "  # Plot the roc_auc curve\n",
    "  plt.plot([0,1],[0,1],linestyle = '--',lw = 2,color = 'black')\n",
    "  mean_tpr = np.mean(tprs, axis=0)\n",
    "  mean_auc = auc(mean_fpr, mean_tpr)\n",
    "  plt.plot(mean_fpr, mean_tpr, color='blue',\n",
    "         label=r'Mean ROC (AUC = %0.2f )' % (mean_auc),lw=2, alpha=1)\n",
    "  plt.xlabel('False Positive Rate')\n",
    "  plt.ylabel('True Positive Rate')\n",
    "  plt.title('The roc_auc curve')\n",
    "  #plt.legend(loc=\"lower right\")\n",
    "  plt.text(0.32,0.7,'More accurate area',fontsize = 12)\n",
    "  plt.text(0.63,0.4,'Less accurate area',fontsize = 12)\n",
    "  plt.show()"
   ]
  },
  {
   "cell_type": "markdown",
   "metadata": {
    "id": "KcPvgTRjBH1K"
   },
   "source": [
    "# MODELLING AND HYPERPARAMETER TUNING\n",
    "\n",
    "This section builds and evaluates the performance of various classification models, such as:\n",
    "\n",
    "*   Logistic Regression\n",
    "*   Support Vector Machine\n",
    "*   Kth Nearest Neighbour Classifier\n",
    "*   Decision Tree Classifier\n",
    "*   Random Tree Classifier\n",
    "\n",
    "\n"
   ]
  },
  {
   "cell_type": "markdown",
   "metadata": {
    "id": "XAfJiUx6eITb"
   },
   "source": [
    "**1. CLASSIFICATION MODEL 1: LOGISTIC REGRESSION**\n"
   ]
  },
  {
   "cell_type": "code",
   "execution_count": 86,
   "metadata": {
    "colab": {
     "base_uri": "https://localhost:8080/",
     "height": 399
    },
    "id": "Q4DBRkbRQE88",
    "outputId": "62025c50-5684-46d9-d6a8-259694ddad6f"
   },
   "outputs": [
    {
     "name": "stdout",
     "output_type": "stream",
     "text": [
      "Confusion Matrix: \n",
      "[[191  10]\n",
      " [ 71  11]]\n",
      "Accuracy Score: 0.714 (0.072)\n",
      "None\n"
     ]
    },
    {
     "data": {
      "image/png": "[encoded data removed]",
      "text/plain": [
       "<Figure size 432x288 with 1 Axes>"
      ]
     },
     "metadata": {
      "needs_background": "light"
     },
     "output_type": "display_data"
    },
    {
     "name": "stdout",
     "output_type": "stream",
     "text": [
      "None\n"
     ]
    }
   ],
   "source": [
    "# import the LogisticRegression module from sklearn\n",
    "from sklearn.linear_model import LogisticRegression\n",
    "\n",
    "# create an instance of the LogisticRegression() object and tune the model's hyperparameters \n",
    "lr = LogisticRegression(penalty='l2', solver='liblinear', C=10.0)\n",
    "\n",
    "\n",
    "# compute the cross-validation method\n",
    "print(evaluate_model_performance(lr, x, y, cv))\n",
    "\n",
    "# plot_roc_auc_curve\n",
    "print(plot_roc_auc_curve(lr, x, y, cv))"
   ]
  },
  {
   "cell_type": "markdown",
   "metadata": {
    "id": "gK16GY9sD_mp"
   },
   "source": [
    "**Please note:**\n",
    "\n",
    "For the score metric, higher is better, i.e.:, a perfect model would have an accuracy score of 1.0"
   ]
  },
  {
   "cell_type": "markdown",
   "metadata": {
    "id": "U8PRNhJz2e6T"
   },
   "source": [
    "**2. CLASSIFICATION MODEL 2: SUPPORT VECTOR MACHINE**"
   ]
  },
  {
   "cell_type": "code",
   "execution_count": 87,
   "metadata": {
    "colab": {
     "base_uri": "https://localhost:8080/",
     "height": 399
    },
    "id": "LLVaIWAE_I2m",
    "outputId": "522bfad8-9fc6-48b4-ed06-3b6f8c0573d6"
   },
   "outputs": [
    {
     "name": "stdout",
     "output_type": "stream",
     "text": [
      "Confusion Matrix: \n",
      "[[199   2]\n",
      " [ 43  39]]\n",
      "Accuracy Score: 0.841 (0.044)\n",
      "None\n"
     ]
    },
    {
     "data": {
      "image/png": "[encoded data removed]",
      "text/plain": [
       "<Figure size 432x288 with 1 Axes>"
      ]
     },
     "metadata": {
      "needs_background": "light"
     },
     "output_type": "display_data"
    },
    {
     "name": "stdout",
     "output_type": "stream",
     "text": [
      "None\n"
     ]
    }
   ],
   "source": [
    "# import the support vector machine classification module\n",
    "from sklearn.svm import SVC\n",
    "\n",
    "# create an instance of the SVC() object and tune the model's hyperparameters\n",
    "svc = SVC(kernel='linear', probability=True, C=10.0, random_state=21, gamma='auto', shrinking=False)\n",
    "\n",
    "# compute the cross-validation method\n",
    "print(evaluate_model_performance(svc, x, y, cv))\n",
    "\n",
    "# plot_roc_auc_curve\n",
    "print(plot_roc_auc_curve(svc, x, y, cv))"
   ]
  },
  {
   "cell_type": "markdown",
   "metadata": {
    "id": "FyTLOcDXEPdg"
   },
   "source": [
    "**Please note:**\n",
    "\n",
    "For the score metric, higher is better, i.e.:, a perfect model would have an accuracy score of 1.0"
   ]
  },
  {
   "cell_type": "markdown",
   "metadata": {
    "id": "WQYCzR5O8o9i"
   },
   "source": [
    "**3. CLASSIFICATION MODEL 3: K-NEAREST-NEIGHBOURS (KNN) CLASSIFIER**"
   ]
  },
  {
   "cell_type": "code",
   "execution_count": 88,
   "metadata": {
    "colab": {
     "base_uri": "https://localhost:8080/",
     "height": 399
    },
    "id": "-gqdA9m1O1Ao",
    "outputId": "2276e40e-c710-4681-a4f1-e9ecc59a13fb"
   },
   "outputs": [
    {
     "name": "stdout",
     "output_type": "stream",
     "text": [
      "Confusion Matrix: \n",
      "[[201   0]\n",
      " [ 81   1]]\n",
      "Accuracy Score: 0.713 (0.084)\n",
      "None\n"
     ]
    },
    {
     "data": {
      "image/png": "[encoded data removed]",
      "text/plain": [
       "<Figure size 432x288 with 1 Axes>"
      ]
     },
     "metadata": {
      "needs_background": "light"
     },
     "output_type": "display_data"
    },
    {
     "name": "stdout",
     "output_type": "stream",
     "text": [
      "None\n"
     ]
    }
   ],
   "source": [
    "# import the KNN module from sklearn\n",
    "from sklearn.neighbors import KNeighborsClassifier\n",
    "\n",
    "# define the number of neighbours\n",
    "n_neighbors = 100 # <--- change this number to play around with how many nearest neighbours to look for.\n",
    "\n",
    "# define the model and tune the model's hyperparameters by adjusting the number of neighbours\n",
    "knn = KNeighborsClassifier(n_neighbors)\n",
    "\n",
    "# compute the cross-validation method\n",
    "print(evaluate_model_performance(knn, x, y, cv))\n",
    "\n",
    "# plot_roc_auc_curve\n",
    "print(plot_roc_auc_curve(knn, x, y, cv))"
   ]
  },
  {
   "cell_type": "markdown",
   "metadata": {
    "id": "gZqucQfj1605"
   },
   "source": [
    "**Please note:**\n",
    "\n",
    "For the score metric, higher is better, i.e.:, a perfect model would have an accuracy score of 1.0"
   ]
  },
  {
   "cell_type": "markdown",
   "metadata": {
    "id": "TmmD_vN_WPkS"
   },
   "source": [
    "**4. CLASSIFICATION MODEL 4: DECISION TREE CLASSIFIER**"
   ]
  },
  {
   "cell_type": "code",
   "execution_count": 89,
   "metadata": {
    "colab": {
     "base_uri": "https://localhost:8080/",
     "height": 399
    },
    "id": "amLnAmllRWLm",
    "outputId": "f2ebfee0-4de2-4dc1-b206-ecb1097a9bdf"
   },
   "outputs": [
    {
     "name": "stdout",
     "output_type": "stream",
     "text": [
      "Confusion Matrix: \n",
      "[[201   0]\n",
      " [ 41  41]]\n",
      "Accuracy Score: 0.855 (0.042)\n",
      "None\n"
     ]
    },
    {
     "data": {
      "image/png": "[encoded data removed]",
      "text/plain": [
       "<Figure size 432x288 with 1 Axes>"
      ]
     },
     "metadata": {
      "needs_background": "light"
     },
     "output_type": "display_data"
    },
    {
     "name": "stdout",
     "output_type": "stream",
     "text": [
      "None\n"
     ]
    }
   ],
   "source": [
    "# import the DecisionTreeClassifier module from sklearn\n",
    "from sklearn.tree import DecisionTreeClassifier\n",
    "\n",
    "# define the model and tune the model's hyperparameters\n",
    "tree = DecisionTreeClassifier(random_state=42, max_depth=20)\n",
    "\n",
    "# compute the cross-validation method\n",
    "print(evaluate_model_performance(tree, x, y, cv))\n",
    "\n",
    "# plot_roc_auc_curve\n",
    "print(plot_roc_auc_curve(tree, x, y, cv))"
   ]
  },
  {
   "cell_type": "markdown",
   "metadata": {
    "id": "mG0aGjXU12Eq"
   },
   "source": [
    "**Please note:**\n",
    "\n",
    "For the score metric, higher is better, i.e.:, a perfect model would have an accuracy score of 1.0"
   ]
  },
  {
   "cell_type": "markdown",
   "metadata": {
    "id": "kWCCNdbtEWCV"
   },
   "source": [
    "**5. CLASSIFICATION MODEL 5: RANDOM FOREST CLASSIFIER**"
   ]
  },
  {
   "cell_type": "code",
   "execution_count": 90,
   "metadata": {
    "colab": {
     "base_uri": "https://localhost:8080/",
     "height": 399
    },
    "id": "Cz2JY0CPRd4t",
    "outputId": "e4febe58-8edf-4043-a487-5c212a9acd29"
   },
   "outputs": [
    {
     "name": "stdout",
     "output_type": "stream",
     "text": [
      "Confusion Matrix: \n",
      "[[201   0]\n",
      " [ 41  41]]\n",
      "Accuracy Score: 0.855 (0.042)\n",
      "None\n"
     ]
    },
    {
     "data": {
      "image/png": "[encoded data removed]",
      "text/plain": [
       "<Figure size 432x288 with 1 Axes>"
      ]
     },
     "metadata": {
      "needs_background": "light"
     },
     "output_type": "display_data"
    },
    {
     "name": "stdout",
     "output_type": "stream",
     "text": [
      "None\n"
     ]
    }
   ],
   "source": [
    "# import the RandomForestClassifier module from sklearn\n",
    "from sklearn.ensemble import RandomForestClassifier\n",
    "\n",
    "# define the model and tune the model's hyperparameters\n",
    "forest = RandomForestClassifier(n_estimators=100, random_state=42, max_depth=10)\n",
    "\n",
    "# compute the cross-validation method\n",
    "print(evaluate_model_performance(forest, x, y, cv))\n",
    "\n",
    "# plot_roc_auc_curve\n",
    "print(plot_roc_auc_curve(forest, x, y, cv))"
   ]
  },
  {
   "cell_type": "markdown",
   "metadata": {
    "id": "isEOKtrfI1UY"
   },
   "source": [
    "**Please note:**\n",
    "\n",
    "For the score metric, higher is better, i.e.:, a perfect model would have an accuracy score of 1.0"
   ]
  },
  {
   "cell_type": "markdown",
   "metadata": {
    "id": "-ouypCbKlRr6"
   },
   "source": [
    "**9. ENSEMBLING THE THREE BEST CLASSIFIERS USING THE VOTINGCLASSIFIER() METHOD**"
   ]
  },
  {
   "cell_type": "code",
   "execution_count": 91,
   "metadata": {
    "colab": {
     "base_uri": "https://localhost:8080/",
     "height": 399
    },
    "id": "9ANW2DpFRi4c",
    "outputId": "912829b2-d3a7-400b-dce0-7a9cb75f80a2"
   },
   "outputs": [
    {
     "name": "stdout",
     "output_type": "stream",
     "text": [
      "Confusion Matrix: \n",
      "[[201   0]\n",
      " [ 41  41]]\n",
      "Accuracy Score: 0.855 (0.042)\n",
      "None\n"
     ]
    },
    {
     "data": {
      "image/png": "[encoded data removed]",
      "text/plain": [
       "<Figure size 432x288 with 1 Axes>"
      ]
     },
     "metadata": {
      "needs_background": "light"
     },
     "output_type": "display_data"
    },
    {
     "name": "stdout",
     "output_type": "stream",
     "text": [
      "None\n"
     ]
    }
   ],
   "source": [
    "# First import the VotingClassifier module from sklearn\n",
    "from sklearn.ensemble import VotingClassifier\n",
    "\n",
    "# initializing all the model objects with default parameters\n",
    "model_1 = SVC(kernel='linear', probability=True, C=10.0, random_state=21, gamma='auto', shrinking=False)\n",
    "model_2 = DecisionTreeClassifier(random_state=42, max_depth=20)\n",
    "model_3 = RandomForestClassifier()\n",
    "\n",
    "# Making the final model using voting classifier\n",
    "ensemble_model = VotingClassifier(\n",
    "    estimators=[('svc', model_1), ('dt', model_2), ('rf', model_3)], voting='soft')\n",
    "\n",
    "# compute the cross-validation method\n",
    "print(evaluate_model_performance(ensemble_model, x, y, cv))\n",
    "\n",
    "# plot_roc_auc_curve\n",
    "print(plot_roc_auc_curve(ensemble_model, x, y, cv))"
   ]
  },
  {
   "cell_type": "markdown",
   "metadata": {
    "id": "3vxLnoUw1y7X"
   },
   "source": [
    "**Please note:**\n",
    "\n",
    "For the score metric, higher is better, i.e.:, a perfect model would have an accuracy score of 1.0"
   ]
  },
  {
   "cell_type": "markdown",
   "metadata": {
    "id": "hyqH4DMjv5Th"
   },
   "source": [
    "# READ AND INTERPRET THE RESULTS OF THE PREDICTIONS FOR EACH COMPANY\n",
    "\n",
    "After performing the classification using the five models above, this section now seeks to extract the results of each classification for each model and map it to each company in the testing dataset.\n",
    "\n",
    "The goal is to use the prediction results to determine whether a given company is likely to be successful or unsuccessful, given the five predictor variables:\n",
    "\n",
    "\n",
    "*   Is a given company likely to be successful or unsuccessful given the operating status?\n",
    "*   Is a given company likely to be successful or unsuccessful given the country in which it is located?\n",
    "*   Is a given company likely to be successful or unsuccessful given the sector and category in which it works in?"
   ]
  },
  {
   "cell_type": "markdown",
   "metadata": {
    "id": "Pue7t01MwFmu"
   },
   "source": [
    "**1. EXTRACT THE PREDICTIONS USING THE MACHINE LEARNING MODEL THAT PERFORMED BEST**\n",
    "\n",
    "The machine learning model that performed the best was the Random Forest Classifier model with an accuracy score of 0.86"
   ]
  },
  {
   "cell_type": "code",
   "execution_count": 92,
   "metadata": {
    "colab": {
     "base_uri": "https://localhost:8080/",
     "height": 384
    },
    "id": "eLAY9Zph-7ff",
    "outputId": "8f727e0a-ac5d-4491-aff4-b9dec585ad6e"
   },
   "outputs": [
    {
     "data": {
      "text/html": [
       "\n",
       "  <div id=\"df-ffbfacd1-71fb-4558-8686-a258739309a3\">\n",
       "    <div class=\"colab-df-container\">\n",
       "      <div>\n",
       "<style scoped>\n",
       "    .dataframe tbody tr th:only-of-type {\n",
       "        vertical-align: middle;\n",
       "    }\n",
       "\n",
       "    .dataframe tbody tr th {\n",
       "        vertical-align: top;\n",
       "    }\n",
       "\n",
       "    .dataframe thead th {\n",
       "        text-align: right;\n",
       "    }\n",
       "</style>\n",
       "<table border=\"1\" class=\"dataframe\">\n",
       "  <thead>\n",
       "    <tr style=\"text-align: right;\">\n",
       "      <th></th>\n",
       "      <th>name</th>\n",
       "      <th>sector</th>\n",
       "      <th>category</th>\n",
       "      <th>country</th>\n",
       "      <th>operating_status</th>\n",
       "      <th>ipo</th>\n",
       "      <th>patents</th>\n",
       "      <th>trademarks</th>\n",
       "      <th>hub</th>\n",
       "      <th>latest_funding_type_column</th>\n",
       "      <th>...</th>\n",
       "      <th>Private Equity</th>\n",
       "      <th>Seed</th>\n",
       "      <th>Delisted</th>\n",
       "      <th>Private</th>\n",
       "      <th>Public</th>\n",
       "      <th>Emerging Unicorn</th>\n",
       "      <th>Exited Unicorn</th>\n",
       "      <th>Pledge 1%</th>\n",
       "      <th>Unicorn</th>\n",
       "      <th>classification_predictions</th>\n",
       "    </tr>\n",
       "  </thead>\n",
       "  <tbody>\n",
       "    <tr>\n",
       "      <th>5</th>\n",
       "      <td>Aeternity</td>\n",
       "      <td>Technology</td>\n",
       "      <td>Financial Services</td>\n",
       "      <td>Europe</td>\n",
       "      <td>IPO</td>\n",
       "      <td>Private</td>\n",
       "      <td>1</td>\n",
       "      <td>0</td>\n",
       "      <td>Unicorn</td>\n",
       "      <td>Initial Coin Offering</td>\n",
       "      <td>...</td>\n",
       "      <td>0</td>\n",
       "      <td>0</td>\n",
       "      <td>0</td>\n",
       "      <td>1</td>\n",
       "      <td>0</td>\n",
       "      <td>0</td>\n",
       "      <td>0</td>\n",
       "      <td>0</td>\n",
       "      <td>1</td>\n",
       "      <td>1.0</td>\n",
       "    </tr>\n",
       "    <tr>\n",
       "      <th>13</th>\n",
       "      <td>Intello Labs</td>\n",
       "      <td>Technology</td>\n",
       "      <td>Financial Services</td>\n",
       "      <td>US</td>\n",
       "      <td>Early Stage Venture</td>\n",
       "      <td>Private</td>\n",
       "      <td>0</td>\n",
       "      <td>0</td>\n",
       "      <td>Unicorn</td>\n",
       "      <td>Series A</td>\n",
       "      <td>...</td>\n",
       "      <td>0</td>\n",
       "      <td>0</td>\n",
       "      <td>0</td>\n",
       "      <td>1</td>\n",
       "      <td>0</td>\n",
       "      <td>0</td>\n",
       "      <td>0</td>\n",
       "      <td>0</td>\n",
       "      <td>1</td>\n",
       "      <td>0.0</td>\n",
       "    </tr>\n",
       "    <tr>\n",
       "      <th>14</th>\n",
       "      <td>lithium cycles</td>\n",
       "      <td>Technology</td>\n",
       "      <td>Financial Services</td>\n",
       "      <td>US</td>\n",
       "      <td>IPO</td>\n",
       "      <td>Private</td>\n",
       "      <td>7</td>\n",
       "      <td>0</td>\n",
       "      <td>Unicorn</td>\n",
       "      <td>Venture Round</td>\n",
       "      <td>...</td>\n",
       "      <td>0</td>\n",
       "      <td>0</td>\n",
       "      <td>0</td>\n",
       "      <td>1</td>\n",
       "      <td>0</td>\n",
       "      <td>0</td>\n",
       "      <td>0</td>\n",
       "      <td>0</td>\n",
       "      <td>1</td>\n",
       "      <td>0.0</td>\n",
       "    </tr>\n",
       "    <tr>\n",
       "      <th>19</th>\n",
       "      <td>The DAO</td>\n",
       "      <td>Technology</td>\n",
       "      <td>Financial Services</td>\n",
       "      <td>EU</td>\n",
       "      <td>IPO</td>\n",
       "      <td>Private</td>\n",
       "      <td>0</td>\n",
       "      <td>0</td>\n",
       "      <td>Unicorn</td>\n",
       "      <td>Initial Coin Offering</td>\n",
       "      <td>...</td>\n",
       "      <td>0</td>\n",
       "      <td>0</td>\n",
       "      <td>0</td>\n",
       "      <td>1</td>\n",
       "      <td>0</td>\n",
       "      <td>0</td>\n",
       "      <td>0</td>\n",
       "      <td>0</td>\n",
       "      <td>1</td>\n",
       "      <td>1.0</td>\n",
       "    </tr>\n",
       "    <tr>\n",
       "      <th>21</th>\n",
       "      <td>Aipoly</td>\n",
       "      <td>Technology</td>\n",
       "      <td>Financial Services</td>\n",
       "      <td>US</td>\n",
       "      <td>IPO</td>\n",
       "      <td>Private</td>\n",
       "      <td>1</td>\n",
       "      <td>0</td>\n",
       "      <td>Unicorn</td>\n",
       "      <td>Angel Round</td>\n",
       "      <td>...</td>\n",
       "      <td>0</td>\n",
       "      <td>0</td>\n",
       "      <td>0</td>\n",
       "      <td>1</td>\n",
       "      <td>0</td>\n",
       "      <td>0</td>\n",
       "      <td>0</td>\n",
       "      <td>0</td>\n",
       "      <td>1</td>\n",
       "      <td>0.0</td>\n",
       "    </tr>\n",
       "  </tbody>\n",
       "</table>\n",
       "<p>5 rows × 39 columns</p>\n",
       "</div>\n",
       "      <button class=\"colab-df-convert\" onclick=\"convertToInteractive('df-ffbfacd1-71fb-4558-8686-a258739309a3')\"\n",
       "              title=\"Convert this dataframe to an interactive table.\"\n",
       "              style=\"display:none;\">\n",
       "        \n",
       "  <svg xmlns=\"http://www.w3.org/2000/svg\" height=\"24px\"viewBox=\"0 0 24 24\"\n",
       "       width=\"24px\">\n",
       "    <path d=\"M0 0h24v24H0V0z\" fill=\"none\"/>\n",
       "    <path d=\"M18.56 5.44l.94 2.06.94-2.06 2.06-.94-2.06-.94-.94-2.06-.94 2.06-2.06.94zm-11 1L8.5 8.5l.94-2.06 2.06-.94-2.06-.94L8.5 2.5l-.94 2.06-2.06.94zm10 10l.94 2.06.94-2.06 2.06-.94-2.06-.94-.94-2.06-.94 2.06-2.06.94z\"/><path d=\"M17.41 7.96l-1.37-1.37c-.4-.4-.92-.59-1.43-.59-.52 0-1.04.2-1.43.59L10.3 9.45l-7.72 7.72c-.78.78-.78 2.05 0 2.83L4 21.41c.39.39.9.59 1.41.59.51 0 1.02-.2 1.41-.59l7.78-7.78 2.81-2.81c.8-.78.8-2.07 0-2.86zM5.41 20L4 18.59l7.72-7.72 1.47 1.35L5.41 20z\"/>\n",
       "  </svg>\n",
       "      </button>\n",
       "      \n",
       "  <style>\n",
       "    .colab-df-container {\n",
       "      display:flex;\n",
       "      flex-wrap:wrap;\n",
       "      gap: 12px;\n",
       "    }\n",
       "\n",
       "    .colab-df-convert {\n",
       "      background-color: #E8F0FE;\n",
       "      border: none;\n",
       "      border-radius: 50%;\n",
       "      cursor: pointer;\n",
       "      display: none;\n",
       "      fill: #1967D2;\n",
       "      height: 32px;\n",
       "      padding: 0 0 0 0;\n",
       "      width: 32px;\n",
       "    }\n",
       "\n",
       "    .colab-df-convert:hover {\n",
       "      background-color: #E2EBFA;\n",
       "      box-shadow: 0px 1px 2px rgba(60, 64, 67, 0.3), 0px 1px 3px 1px rgba(60, 64, 67, 0.15);\n",
       "      fill: #174EA6;\n",
       "    }\n",
       "\n",
       "    [theme=dark] .colab-df-convert {\n",
       "      background-color: #3B4455;\n",
       "      fill: #D2E3FC;\n",
       "    }\n",
       "\n",
       "    [theme=dark] .colab-df-convert:hover {\n",
       "      background-color: #434B5C;\n",
       "      box-shadow: 0px 1px 3px 1px rgba(0, 0, 0, 0.15);\n",
       "      filter: drop-shadow(0px 1px 2px rgba(0, 0, 0, 0.3));\n",
       "      fill: #FFFFFF;\n",
       "    }\n",
       "  </style>\n",
       "\n",
       "      <script>\n",
       "        const buttonEl =\n",
       "          document.querySelector('#df-ffbfacd1-71fb-4558-8686-a258739309a3 button.colab-df-convert');\n",
       "        buttonEl.style.display =\n",
       "          google.colab.kernel.accessAllowed ? 'block' : 'none';\n",
       "\n",
       "        async function convertToInteractive(key) {\n",
       "          const element = document.querySelector('#df-ffbfacd1-71fb-4558-8686-a258739309a3');\n",
       "          const dataTable =\n",
       "            await google.colab.kernel.invokeFunction('convertToInteractive',\n",
       "                                                     [key], {});\n",
       "          if (!dataTable) return;\n",
       "\n",
       "          const docLinkHtml = 'Like what you see? Visit the ' +\n",
       "            '<a target=\"_blank\" href=https://colab.research.google.com/notebooks/data_table.ipynb>data table notebook</a>'\n",
       "            + ' to learn more about interactive tables.';\n",
       "          element.innerHTML = '';\n",
       "          dataTable['output_type'] = 'display_data';\n",
       "          await google.colab.output.renderOutput(dataTable, element);\n",
       "          const docLink = document.createElement('div');\n",
       "          docLink.innerHTML = docLinkHtml;\n",
       "          element.appendChild(docLink);\n",
       "        }\n",
       "      </script>\n",
       "    </div>\n",
       "  </div>\n",
       "  "
      ],
      "text/plain": [
       "              name      sector            category country  \\\n",
       "5        Aeternity  Technology  Financial Services  Europe   \n",
       "13    Intello Labs  Technology  Financial Services      US   \n",
       "14  lithium cycles  Technology  Financial Services      US   \n",
       "19         The DAO  Technology  Financial Services      EU   \n",
       "21          Aipoly  Technology  Financial Services      US   \n",
       "\n",
       "       operating_status      ipo patents trademarks      hub  \\\n",
       "5                   IPO  Private       1          0  Unicorn   \n",
       "13  Early Stage Venture  Private       0          0  Unicorn   \n",
       "14                  IPO  Private       7          0  Unicorn   \n",
       "19                  IPO  Private       0          0  Unicorn   \n",
       "21                  IPO  Private       1          0  Unicorn   \n",
       "\n",
       "   latest_funding_type_column  ... Private Equity  Seed  Delisted  Private  \\\n",
       "5      Initial Coin Offering   ...              0     0         0        1   \n",
       "13                  Series A   ...              0     0         0        1   \n",
       "14             Venture Round   ...              0     0         0        1   \n",
       "19     Initial Coin Offering   ...              0     0         0        1   \n",
       "21               Angel Round   ...              0     0         0        1   \n",
       "\n",
       "    Public  Emerging Unicorn  Exited Unicorn  Pledge 1%  Unicorn  \\\n",
       "5        0                 0               0          0        1   \n",
       "13       0                 0               0          0        1   \n",
       "14       0                 0               0          0        1   \n",
       "19       0                 0               0          0        1   \n",
       "21       0                 0               0          0        1   \n",
       "\n",
       "    classification_predictions  \n",
       "5                          1.0  \n",
       "13                         0.0  \n",
       "14                         0.0  \n",
       "19                         1.0  \n",
       "21                         0.0  \n",
       "\n",
       "[5 rows x 39 columns]"
      ]
     },
     "execution_count": 92,
     "metadata": {},
     "output_type": "execute_result"
    }
   ],
   "source": [
    "# extract the prediction values from the Random Forest Classifier model (performed best)\n",
    "y_pred = cross_val_predict(ensemble_model, x, y, cv=cv)\n",
    "final_predictions = list(y_pred)\n",
    "\n",
    "# append the final_predictions list into the final_dataframe in order to map each company name with its specific classification prediction\n",
    "final_dataframe['classification_predictions'] = final_predictions\n",
    "final_dataframe.head()"
   ]
  },
  {
   "cell_type": "markdown",
   "metadata": {
    "id": "RG4GQnr9DknH"
   },
   "source": [
    "**2. CALCULATE THE NUMBER OF COMPANIES THAT ARE CLASSIFIED AS SUCCESSFUL AND UNSUCCESSFUL AFTER THE CLASSIFICATION PREDICTIONS**"
   ]
  },
  {
   "cell_type": "code",
   "execution_count": 93,
   "metadata": {
    "colab": {
     "base_uri": "https://localhost:8080/"
    },
    "id": "hpEzGDfS_Wde",
    "outputId": "3c915f72-9959-4fa4-bd4b-f45b439335ba"
   },
   "outputs": [
    {
     "name": "stdout",
     "output_type": "stream",
     "text": [
      "41 companies were classified as successful, and 242 were classified as unsuccessful after making the classification predictions\n"
     ]
    }
   ],
   "source": [
    "# print the number of companies that have been classified as successful and unsuccessful after the classification predictions\n",
    "print(final_dataframe['classification_predictions'].value_counts().values[1],'companies were classified as successful, and',final_dataframe['classification_predictions'].value_counts().values[0],'were classified as unsuccessful after making the classification predictions')"
   ]
  }
 ],
 "metadata": {
  "colab": {
   "collapsed_sections": [
    "_tBEm5qNB9tE",
    "WpbqgqusCC8J",
    "OtcIfqziEzxL",
    "c7w-URIzFy_W",
    "pQNBE4R1Tccg"
   ],
   "name": "Revised Notebook with Confusion Matrices, Roc-Auc Curve, Kfold, and Ensembling Method.ipynb",
   "provenance": []
  },
  "kernelspec": {
   "display_name": "Python 3",
   "language": "python",
   "name": "python3"
  },
  "language_info": {
   "codemirror_mode": {
    "name": "ipython",
    "version": 3
   },
   "file_extension": ".py",
   "mimetype": "text/x-python",
   "name": "python",
   "nbconvert_exporter": "python",
   "pygments_lexer": "ipython3",
   "version": "3.8.8"
  }
 },
 "nbformat": 4,
 "nbformat_minor": 1
}
